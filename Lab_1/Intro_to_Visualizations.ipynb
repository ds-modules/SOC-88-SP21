{
 "cells": [
  {
   "cell_type": "markdown",
   "metadata": {},
   "source": [
    "# [SOC-88] Visualization Basics\n"
   ]
  },
  {
   "cell_type": "code",
   "execution_count": 1,
   "metadata": {},
   "outputs": [],
   "source": [
    "import numpy as np\n",
    "import pandas as pd\n",
    "from datascience import *"
   ]
  },
  {
   "cell_type": "markdown",
   "metadata": {},
   "source": [
    "## Part 1: Components of Graphs"
   ]
  },
  {
   "cell_type": "markdown",
   "metadata": {},
   "source": [
    "Every graph has components that allow us to understand the data being represented in new, different ways. The following components will help improve the quality of your graphs and make it easier for the audience to understand. We will go over how to modify these components based on what you want. \n",
    "\n",
    "**We will review a few functions to customize your graphs and plots. You can follow this [link](https://matplotlib.org/3.1.1/api/pyplot_summary.html) and see more of the functions that can be used in `matplotlib.pyplot`.**\n",
    "\n",
    "**Note:** Everything below will reference the imported `matplotlib.pyplot` package as `plt` in the line below. If you change the name you import it as, make sure to replace the name you decide with every `plt` below with your new name."
   ]
  },
  {
   "cell_type": "code",
   "execution_count": 2,
   "metadata": {},
   "outputs": [],
   "source": [
    "import matplotlib.pyplot as plt\n",
    "%matplotlib inline"
   ]
  },
  {
   "cell_type": "markdown",
   "metadata": {},
   "source": [
    "### a) Displaying Graphs"
   ]
  },
  {
   "cell_type": "markdown",
   "metadata": {
    "collapsed": true
   },
   "source": [
    "In this notebook, the plots are being displayed directly after the code because of the `%matplotlib inline` library from the code cell above. If we did not have this line, then all the plots in this notebook would not appear at all.\n",
    "\n",
    "There is another way to display plots without using `inline`; you can use `plt.show()`. However, it does requires that you makes some sort of plot beforehand. If you just run `plt.show()` by itself, you would get a bare-bone, empty plot."
   ]
  },
  {
   "cell_type": "code",
   "execution_count": null,
   "metadata": {},
   "outputs": [],
   "source": [
    "plt.title(\"Name\")\n",
    "plt.show();"
   ]
  },
  {
   "cell_type": "markdown",
   "metadata": {},
   "source": [
    "In the last line of your plot, it is good practice to add a semi-colon, `;`, which gets rid of the jargon text directly above your plot. The semi-colon is not a strict requirement since it does not change the code in any way, but it does get rid of the excess and only returns the important part: the graph.\n",
    "\n",
    "**Note:** This extra rule is not effective in the plot above, but will be useful with later graphs in this notebook."
   ]
  },
  {
   "cell_type": "markdown",
   "metadata": {},
   "source": [
    "### b) Complex, Multiple Plots"
   ]
  },
  {
   "cell_type": "markdown",
   "metadata": {},
   "source": [
    "When initializing plots, you can set up a figure using `plt.figure()`, which creates space for a plot. There are two key arguments you may want to adjust:\n",
    "\n",
    "- The first, `figsize=(x,y)`, lets you determine what the `x` and `y` dimensions of your plot to be. \n",
    "- The second, `facecolor`, controls the color of the axes and border around your plot."
   ]
  },
  {
   "cell_type": "code",
   "execution_count": null,
   "metadata": {},
   "outputs": [],
   "source": [
    "plt.figure(facecolor='white', figsize=(8,8));"
   ]
  },
  {
   "cell_type": "markdown",
   "metadata": {},
   "source": [
    "We will see what the above code looks like in an actual plot later below. Traditionally, it is written as `fig = plt.figure()` so that we can reference it in the future."
   ]
  },
  {
   "cell_type": "code",
   "execution_count": null,
   "metadata": {
    "scrolled": true
   },
   "outputs": [],
   "source": [
    "fig = plt.figure();"
   ]
  },
  {
   "cell_type": "markdown",
   "metadata": {},
   "source": [
    "When alone, the figure `fig = plt.figure()` does not create an image. It is usually accompanied with a description of the number of plots you want to graph. \n",
    "\n",
    "We describe how many plots will be in this space by adding subplots. Using `fig.add_subplot(...)`, it references the `fig` figure (like the one we created in the cell above) and calls the `add_subplot()` function. It is best practice to keep the `fig` and `subplots` together in the same cell to avoid confusion. Also note that it is tradition that we label each subplot with `ax`. Make sure if you have multiple subplots to number them with different values, so that you can reference each subplot individually, such as `ax1`, `ax2`, etc.\n",
    "\n",
    "The numbers provided within the `add_subplot()` function represent the numbers of plots and the dimensions you are creating. For example, if we use `111`, within a 1x1 grid, we are creating the 1st subplot."
   ]
  },
  {
   "cell_type": "code",
   "execution_count": null,
   "metadata": {},
   "outputs": [],
   "source": [
    "fig = plt.figure(facecolor='white', figsize=(8,8));\n",
    "ax = fig.add_subplot(111)"
   ]
  },
  {
   "cell_type": "markdown",
   "metadata": {},
   "source": [
    "We can create a 2x1 grid in the first subplot, which has a visually longer x-axis.\n",
    "\n",
    "In this example, we have 2 rows and 1 column. Remember to reference each subplot by changing the last number in your `ax` label."
   ]
  },
  {
   "cell_type": "code",
   "execution_count": null,
   "metadata": {},
   "outputs": [],
   "source": [
    "fig = plt.figure(facecolor='white', figsize=(8,8));\n",
    "\n",
    "# Plot 1 (subplot number ends with 1)\n",
    "ax1 = fig.add_subplot(211)\n",
    "\n",
    "# Plot 2 (subplot number ends with 2)\n",
    "ax2 = fig.add_subplot(212)"
   ]
  },
  {
   "cell_type": "markdown",
   "metadata": {},
   "source": [
    "We can also create a 1x2 grid in the first subplot (1 row and 2 columns), which has a longer y-axis."
   ]
  },
  {
   "cell_type": "code",
   "execution_count": null,
   "metadata": {},
   "outputs": [],
   "source": [
    "fig = plt.figure(facecolor='white', figsize=(8,8));\n",
    "ax1 = fig.add_subplot(121)\n",
    "ax2 = fig.add_subplot(122)"
   ]
  },
  {
   "cell_type": "markdown",
   "metadata": {},
   "source": [
    "You can remember which axis is going to be extended by remembering the dimensions: **x by y *=* rows by columns**."
   ]
  },
  {
   "cell_type": "markdown",
   "metadata": {},
   "source": [
    "***"
   ]
  },
  {
   "cell_type": "markdown",
   "metadata": {},
   "source": [
    "### Question 1\n",
    "Let's try it out by making a plot that has an 8x8 dimension with 2 subplots next to each other in columns. Plot the line y = x on the first subplot and y = -x on the second. If you get stuck on how to add plots to the different subplots, look at the documentation [here](https://matplotlib.org/3.1.0/gallery/subplots_axes_and_figures/subplots_demo.html)."
   ]
  },
  {
   "cell_type": "code",
   "execution_count": null,
   "metadata": {},
   "outputs": [],
   "source": [
    "fig = plt.figure(...)\n",
    "\n",
    "ax1 = ...***\n",
    "ax1.plot(np.arange(0,10), np.arange(0,10));\n",
    "\n",
    "ax2 = ...\n",
    "ax2.plot(np.arange(0,10), -np.arange(0,10));"
   ]
  },
  {
   "cell_type": "markdown",
   "metadata": {},
   "source": [
    "***"
   ]
  },
  {
   "cell_type": "markdown",
   "metadata": {},
   "source": [
    "### c) Labeling your Graphs (x-axis, y-axis, Title)"
   ]
  },
  {
   "cell_type": "markdown",
   "metadata": {},
   "source": [
    "In Data 8, here is how we have traditionally made a bar chart to represent our data."
   ]
  },
  {
   "cell_type": "markdown",
   "metadata": {},
   "source": [
    "A benefit to using figures and axes as `fig` and `ax` is that they allow you to customize even more aspects of your plots. You can add a label to your x-axis, y-axis, and a title for your plot in the `ax` you are working on & also be able to adjust their font style and sizes. Their respective function names are:\n",
    "* `set_xlabel(...)`\n",
    "* `set_ylabel(...)`\n",
    "* `set_title(...)`\n",
    "\n",
    "Here are some possible arguments you can adjust along with their values that you can assign them to:\n",
    "- **First argument:** String of the label name\n",
    "- **`fontname`:** Set equal to a string containing the font style you want.\n",
    "- **`fontsize`:** Set equal to a number that represents how large/small you want your text to be.\n",
    "- **`weight`:** Change thickness of text (can be `'bold'` or `'thin'`).\n",
    "- **`color`:** Set equal to a string with the name of the color, the abbreviation, or a grayscale number.\n",
    "\n",
    "**Note:** `set_title(...)` has a unique argument called `loc`, the abbreviation for *location*, which you can set equal to `'right'` or `'left'` to change the position of the text. The axes' labels have something similar with the argument called `position`.\n",
    "\n",
    "Find more information on color [here.](https://matplotlib.org/2.0.2/api/colors_api.html) You can also see the large variety of fonts available in matplotlib [here](http://jonathansoma.com/lede/data-studio/matplotlib/list-all-fonts-available-in-matplotlib-plus-samples/). Some of the fonts no longer work, but most still are available."
   ]
  },
  {
   "cell_type": "code",
   "execution_count": 3,
   "metadata": {
    "scrolled": false
   },
   "outputs": [
    {
     "data": {
      "image/png": "[encoded data removed]",
      "text/plain": [
       "<Figure size 576x576 with 1 Axes>"
      ]
     },
     "metadata": {},
     "output_type": "display_data"
    }
   ],
   "source": [
    "fig = plt.figure(facecolor='white', figsize=(8,8))\n",
    "ax = fig.add_subplot(111)\n",
    "plt.plot(np.arange(0,10), -5*np.arange(0,10));\n",
    "\n",
    "# Changing x labels\n",
    "ax.set_xlabel('x axis label', fontname=\"Comic Sans MS\", fontsize=50, weight='bold', color='red');\n",
    "\n",
    "# Changing y labels\n",
    "ax.set_ylabel('y axis label', fontname=\"serif\", fontsize=20, weight='light', color='c');\n",
    "\n",
    "# Add title\n",
    "ax.set_title('New title', fontname = 'Impact', fontsize=30, loc='right', color='0.75');"
   ]
  },
  {
   "cell_type": "markdown",
   "metadata": {},
   "source": [
    "***"
   ]
  },
  {
   "cell_type": "markdown",
   "metadata": {},
   "source": [
    "### Question 2\n",
    "Try plotting the same two lines from Question 1 (y = x and y = -x) in the following cell, but in rows. Add appropriate labels and title your plot as \"Positive & Negative Slope\". Use one unique font (anything different from the default) for all the labels. Use an appropriate color for your labels."
   ]
  },
  {
   "cell_type": "code",
   "execution_count": null,
   "metadata": {},
   "outputs": [],
   "source": [
    "fig = plt.figure(figsize=(8,8))\n",
    "ax1 = ...\n",
    "ax1.plot(...);\n",
    "\n",
    "ax2 = ...\n",
    "ax2.plot(...);\n",
    "\n",
    "ax2.set_xlabel(...)\n",
    "ax2.set_ylabel(...)\n",
    "ax1.set_title(...);"
   ]
  },
  {
   "cell_type": "markdown",
   "metadata": {},
   "source": [
    "***"
   ]
  },
  {
   "cell_type": "markdown",
   "metadata": {},
   "source": [
    "### d) Axes Limits and Ticks"
   ]
  },
  {
   "cell_type": "markdown",
   "metadata": {},
   "source": [
    "Another feature you can edit on your graph are the bounds of your x-axis and y-axis. Note the last number in your bound is included, which is different from `np.arange(...)` that usually excludes the last number."
   ]
  },
  {
   "cell_type": "code",
   "execution_count": null,
   "metadata": {},
   "outputs": [],
   "source": [
    "fig = plt.figure(facecolor='white', figsize=(8,8))\n",
    "ax = fig.add_subplot(111)\n",
    "plt.plot(np.arange(0,10), np.arange(0,10));\n",
    "\n",
    "# Changing x-axis limit \n",
    "ax.set_xlim(0,9)\n",
    "\n",
    "# Changing y-axis limit\n",
    "ax.set_ylim(0, 9);"
   ]
  },
  {
   "cell_type": "markdown",
   "metadata": {},
   "source": [
    "You can also manually set the axis labels of your plot using `set_xticks(...)`, `set_xticklabels(...)` for the x-axis, as well as `set_yticks(...)` and `set_yticklabels(...)` for the y-axis.\n",
    "\n",
    "- The first pair of functions, `set_xticks(...)` and `set_yticks(...)`, changes the number of ticks that are displayed on your graph, starting from whichever integer you indicated.\n",
    "- The second pair of functions, `set_xticklabels(...)` and `set_yticklabels(...)`, changes the labels' styles.\n",
    "\n",
    "It is possible to add labels that inaccurately represent the plot if you use `set_ticklabels(...)`, so be careful with this function. However, it is useful if you wish to change the font style and size of the actual labels on your axes."
   ]
  },
  {
   "cell_type": "markdown",
   "metadata": {},
   "source": [
    "***"
   ]
  },
  {
   "cell_type": "markdown",
   "metadata": {},
   "source": [
    "### Question 3\n",
    "In the cell below, there is a mistake in the plot's axes. Change the plot so that it demonstrates the line y=x."
   ]
  },
  {
   "cell_type": "code",
   "execution_count": null,
   "metadata": {},
   "outputs": [],
   "source": [
    "fig = plt.figure(facecolor='white', figsize=(8,8))\n",
    "ax = fig.add_subplot(111)\n",
    "plt.plot(np.arange(0,10), np.arange(0,10));\n",
    "\n",
    "ax.set_xticks(np.arange(20))\n",
    "ax.set_xticklabels(2*np.arange(0,20), fontsize=15);\n",
    "\n",
    "ax.set_yticks(np.arange(20));"
   ]
  },
  {
   "cell_type": "markdown",
   "metadata": {},
   "source": [
    "***"
   ]
  },
  {
   "cell_type": "markdown",
   "metadata": {},
   "source": [
    "### e) Single Plot Graphs"
   ]
  },
  {
   "cell_type": "markdown",
   "metadata": {},
   "source": [
    "By making figures and adding axes, we are able to easily customize different subplots. However, if you are not interested in customizing its features and only want to plot just one simple plot, then there are parallel fuctions you can use without making a figure. Here is an example."
   ]
  },
  {
   "cell_type": "code",
   "execution_count": null,
   "metadata": {},
   "outputs": [],
   "source": [
    "# LABELS\n",
    "plt.xlabel(\"x-axis\")\n",
    "plt.ylabel(\"y-axis\")\n",
    "plt.title(\"Title\", loc='left');\n",
    "\n",
    "# AXES LIMITS\n",
    "plt.xlim(0,1000)\n",
    "plt.ylim(0, 8);"
   ]
  },
  {
   "cell_type": "markdown",
   "metadata": {},
   "source": [
    "#### `xticks` and `yticks`"
   ]
  },
  {
   "cell_type": "markdown",
   "metadata": {},
   "source": [
    "There are times where you may want to have a different range of values on your x or y axes. Using `plt.xticks()` or `plt.yticks()`, you can customize the number of values represented on each axis. \n",
    "\n",
    "Both require 2 arguments in the function:\n",
    "- The first is an array of the number of ticks you want on the plot.\n",
    "- The second is another array of numbers or values you want displayed on each tick\n",
    "\n",
    "\n",
    "Here is an example. We are making 4 ticks. The first at index 0, the second at index 1, and so on & so forth. The numbers that go into those place are defined on the second array/argument. The number of ticks does not have to be the same in the x and y axes.\n"
   ]
  },
  {
   "cell_type": "code",
   "execution_count": null,
   "metadata": {},
   "outputs": [],
   "source": [
    "# Changing x\n",
    "plt.xticks(np.arange(4), np.array([10, 20, 30, 40]))\n",
    "\n",
    "# Changing y\n",
    "plt.yticks(np.arange(8), np.array([5, 10, 15, 20, 25, 30, 35, 40]));"
   ]
  },
  {
   "cell_type": "markdown",
   "metadata": {},
   "source": [
    "**Word of Caution:** *It is best that the arrays inputted into your graphs are the same length.* If your first array is longer, there will be ticks without labels. If your second array is longer, then it will not display the values that are out of the range of the first array."
   ]
  },
  {
   "cell_type": "markdown",
   "metadata": {},
   "source": [
    "#### `legend`"
   ]
  },
  {
   "cell_type": "markdown",
   "metadata": {},
   "source": [
    "If your plot has multiple lines, it is important to add a legend to your plot to distinguish the lines. Here is an example containing multiple lines with a legend added to the plot using `plt.legend(list_of_labels)`."
   ]
  },
  {
   "cell_type": "code",
   "execution_count": null,
   "metadata": {},
   "outputs": [],
   "source": [
    "plt.plot([10, 4])\n",
    "plt.plot([5, 5])\n",
    "plt.plot([3, 9])\n",
    "\n",
    "plt.legend(['a', 'b', 'c']);"
   ]
  },
  {
   "cell_type": "markdown",
   "metadata": {},
   "source": [
    "#### `grid`"
   ]
  },
  {
   "cell_type": "markdown",
   "metadata": {},
   "source": [
    "Another key feature of plots is adding a grid in the background using `plt.grid()`. It provides an easy-to-follow visualization related to where in the x or y axes the plot is at.\n",
    "\n",
    "The following cell shows an empty plot with grids in the background, marked by the x and y ticks."
   ]
  },
  {
   "cell_type": "code",
   "execution_count": null,
   "metadata": {
    "scrolled": true
   },
   "outputs": [],
   "source": [
    "plt.grid();"
   ]
  },
  {
   "cell_type": "markdown",
   "metadata": {},
   "source": [
    "Here is an example of a graph with a legend AND a grid in the background! Note that with the grid, it is now easier to distingush where each line is at in comparison to one another."
   ]
  },
  {
   "cell_type": "code",
   "execution_count": null,
   "metadata": {},
   "outputs": [],
   "source": [
    "plt.plot([10, 4])\n",
    "plt.plot([5, 5])\n",
    "plt.plot([3, 9])\n",
    "\n",
    "plt.legend(['a', 'b', 'c']);\n",
    "plt.grid();"
   ]
  },
  {
   "cell_type": "markdown",
   "metadata": {},
   "source": [
    "### ***A Useful Tool: Saving Graphs***"
   ]
  },
  {
   "cell_type": "markdown",
   "metadata": {},
   "source": [
    "An important aspect of making graphs is having a way to save them from the Jupyter Notebook, so that they can be used to support other work. To save our figures, we can use the matplotlib function: `savefig(\"file name\")` which will save your image into your DataHub, so that you can download it from there. Learn more [here](https://matplotlib.org/3.1.0/api/_as_gen/matplotlib.pyplot.savefig.html).\n",
    "\n",
    "If you update your graph, then you can run the cell and it will update the image in your DataHub. **If you want to keep both versions, then you must add a different name to your image before you run the cell again, or else you will lose the original graph.** It is recommended to make a new graph in a new cell rather than changing the code in a plot you want to keep."
   ]
  },
  {
   "cell_type": "code",
   "execution_count": null,
   "metadata": {},
   "outputs": [],
   "source": [
    "fig = plt.figure(facecolor='white', figsize=(8,8))\n",
    "ax = fig.add_subplot(111)\n",
    "plt.plot(np.arange(0,10), 0*np.arange(0,10));\n",
    "\n",
    "ax.set_xlabel('x axis label', fontname=\"serif\", fontsize=20);\n",
    "ax.set_ylabel('y axis label', fontname=\"serif\", fontsize=20);\n",
    "ax.set_title('New title',fontname=\"serif\", fontsize=30, loc='center', weight='bold')\n",
    "\n",
    "plt.savefig('Example_plot')"
   ]
  },
  {
   "cell_type": "markdown",
   "metadata": {},
   "source": [
    "### \\* * * * * * * * * *"
   ]
  },
  {
   "cell_type": "markdown",
   "metadata": {},
   "source": [
    "## Part 2: Different Types of Graphs"
   ]
  },
  {
   "cell_type": "markdown",
   "metadata": {},
   "source": [
    "These are the types of visualizations most commonly used in Data 8: \n",
    "* Bar Charts\n",
    "* Histograms\n",
    "* Line Plots\n",
    "* Scatter Plots\n",
    "\n",
    "We will be going more in-depth on customizing each type of plot and adding proper components to make it easier for the audience to understand what the graph is explaining."
   ]
  },
  {
   "cell_type": "markdown",
   "metadata": {},
   "source": [
    "### a) Bar Charts\n",
    "\n",
    "**Bar charts are a way to display the relationship between a categorical variable and a numerical variable.** There is a bar for each category you want to represent, and the height of the bar represents the numerical variable paired with each category. The width of the bins should be the same so that you only need to compare the height of the bars."
   ]
  },
  {
   "cell_type": "markdown",
   "metadata": {},
   "source": [
    "In Data 8, here is how we have traditionally made a bar chart to represent our data.\n",
    "\n",
    "Let's first make ourselves a small table, `favorite_1`, with \"colors\" and \"count\", or the number of people that like the respective color."
   ]
  },
  {
   "cell_type": "code",
   "execution_count": null,
   "metadata": {},
   "outputs": [],
   "source": [
    "favorite_1 = Table().with_columns(\"Color\", ['Blue', 'Green', 'Red', 'Purple'],'Count', [10, 4, 5, 11])\n",
    "favorite_1"
   ]
  },
  {
   "cell_type": "markdown",
   "metadata": {},
   "source": [
    "Then, we simply call the `barh()` function on our recently created table, assigning `'Color'` as our categorical variable."
   ]
  },
  {
   "cell_type": "code",
   "execution_count": null,
   "metadata": {},
   "outputs": [],
   "source": [
    "# This creates a horizontal bar chart with the same labels as those found in the table\n",
    "favorite_1.barh('Color'); "
   ]
  },
  {
   "cell_type": "markdown",
   "metadata": {},
   "source": [
    "#### `color`"
   ]
  },
  {
   "cell_type": "markdown",
   "metadata": {},
   "source": [
    "To make a more customized bar chart, we can use the matplotlib version of `plt.barh(categories_array, numerical_array, color)`. This is minor, but note the bars in our new plot is organized in reverse order from the bars in the Data 8 version of the plot."
   ]
  },
  {
   "cell_type": "code",
   "execution_count": null,
   "metadata": {},
   "outputs": [],
   "source": [
    "plt.barh(favorite_1.column(0), favorite_1.column(1), color=['blue','green','red','purple'])\n",
    "plt.xlabel(\"Number of People\")\n",
    "plt.ylabel(\"Favorite Color\")\n",
    "plt.title(\"People's Favorite Colors\");"
   ]
  },
  {
   "cell_type": "markdown",
   "metadata": {},
   "source": [
    "Let's compare this plot with the categorical values sorted from greatest to least. To do this, we can create a new copied version of the original table sorted in descending order, add the proper color adjustments, and plot it."
   ]
  },
  {
   "cell_type": "code",
   "execution_count": null,
   "metadata": {},
   "outputs": [],
   "source": [
    "sorted_favorite = favorite_1.sort('Count')\n",
    "sorted_favorite"
   ]
  },
  {
   "cell_type": "code",
   "execution_count": null,
   "metadata": {},
   "outputs": [],
   "source": [
    "sorted_favorite.barh('Color'); "
   ]
  },
  {
   "cell_type": "code",
   "execution_count": null,
   "metadata": {
    "scrolled": true
   },
   "outputs": [],
   "source": [
    "plt.barh(sorted_favorite.column(0), sorted_favorite.column(1), color=['green','red','blue','purple'])\n",
    "plt.xlabel(\"Number of People\")\n",
    "plt.ylabel(\"Favorite Color\")\n",
    "plt.title(\"People's Favorite Colors\");"
   ]
  },
  {
   "cell_type": "markdown",
   "metadata": {},
   "source": [
    "***"
   ]
  },
  {
   "cell_type": "markdown",
   "metadata": {},
   "source": [
    "### Question 4\n",
    "\n",
    "Using the figure format from above, make the bar chart in the cell above with Serif font and size 25 font. Save the figure as `\"Fav_Colors\"`. You can leave the `xticks` and `yticks` as they are or change them as you see fit.\n",
    "\n",
    "**Note:** If you're having trouble starting, remember that the `fig` and `ax` formatting from Part 1 exists!"
   ]
  },
  {
   "cell_type": "code",
   "execution_count": null,
   "metadata": {},
   "outputs": [],
   "source": [
    "..."
   ]
  },
  {
   "cell_type": "markdown",
   "metadata": {},
   "source": [
    "***"
   ]
  },
  {
   "cell_type": "markdown",
   "metadata": {},
   "source": [
    "#### *VERTICAL BAR CHARTS*"
   ]
  },
  {
   "cell_type": "markdown",
   "metadata": {},
   "source": [
    "We're not bound to plotting only horizontal bar charts. We can also represent data as a vertical bar chart.\n",
    "\n",
    "In Data 8, we use `tbl.bar(...)`. Notice that we provided the xticks so that there wouldn't be any weird double-labelling along the x-axis."
   ]
  },
  {
   "cell_type": "code",
   "execution_count": null,
   "metadata": {},
   "outputs": [],
   "source": [
    "sorted_favorite.bar('Color')\n",
    "plt.ylabel(\"Number of People\")\n",
    "\n",
    "# xticks works with categorical types as well.\n",
    "plt.xticks(np.arange(4), ['Green', 'Red','Blue','Purple'])\n",
    "plt.xlabel(\"Favorite Color\")\n",
    "plt.title(\"People's Favorite Colors\");"
   ]
  },
  {
   "cell_type": "markdown",
   "metadata": {},
   "source": [
    "We can also use `plt.bar()` from the matplotlib library to further customize our plot. \n",
    "\n",
    "The formatting is much similar to what we saw in the `plt.barh()` example above. Feel free to experiment and try out other formatting techniques!"
   ]
  },
  {
   "cell_type": "code",
   "execution_count": null,
   "metadata": {},
   "outputs": [],
   "source": [
    "plt.bar(sorted_favorite.column(0), sorted_favorite.column(1), color=['green','red','blue','purple'])\n",
    "plt.ylabel(\"Number of People\")\n",
    "plt.xlabel(\"Favorite Color\")\n",
    "plt.title(\"People's Favorite Colors\");"
   ]
  },
  {
   "cell_type": "markdown",
   "metadata": {
    "collapsed": true
   },
   "source": [
    "### b) Histograms\n",
    "\n",
    "**Histograms are a way to contextualize a single set of numerical values.** Histograms give you a way to understand how you data set is spread out. The spread is determined by the bins that represent the data. Bins are ranges that group close values of the data together. \n",
    "\n",
    "For example, if we are looking at data using age as a categorical value, one of your bins can include all ages between 0 to 5, and your next bin can hold ages in the range of 5 to 10, and so on & so forth.\n",
    "\n",
    "*Remember that bins do not include the last number in their range, much like `np.arange()`.*\n",
    "\n",
    "Histograms are special because they will calculate the percent per unit relative to your variable. This means that you can calculate the percentage of a certain range of your data. This percentage would, in turn, be represented by the area of your histogram.\n",
    "\n",
    "**Note:** Because histogram bars are scaled by their area, unlike bar graphs, the widths of the bins do not have to be equal. If they are different, the respective heights must be readjusted accordingly."
   ]
  },
  {
   "cell_type": "markdown",
   "metadata": {
    "collapsed": true
   },
   "source": [
    "An area of a histogram is equal to the height of a bar multiplied by the width of the bar:\n",
    "\n",
    "$$\n",
    "Area = Width * Height\n",
    "$$\n",
    "\n",
    "**Logic of Units:** The area is equivalent to the percentage of the graph that a bin (or multiple bins) represents. In a formula structure, area is equal to the unit of width multiplied by the percent per unit on the height axis. The units cancel out to leave only the percentage:\n",
    "\n",
    "$$\n",
    "Percent = Unit * \\frac{Percent}{Unit}\n",
    "$$"
   ]
  },
  {
   "cell_type": "markdown",
   "metadata": {},
   "source": [
    "Here is a sample of weights from some unknown population."
   ]
  },
  {
   "cell_type": "code",
   "execution_count": null,
   "metadata": {},
   "outputs": [],
   "source": [
    "weights = Table().with_columns(\"T\", np.array([100, 101, 200, 150, 139, 180, 90, 125, 114, 160, 280, 145]))\n",
    "weights"
   ]
  },
  {
   "cell_type": "markdown",
   "metadata": {},
   "source": [
    "We can plot it using the Data 8 table function `tbl.hist(...)`, which requires a column of numerical values. Note the y-axis is automatically labeled as \"Percent per unit\" in the plot."
   ]
  },
  {
   "cell_type": "code",
   "execution_count": null,
   "metadata": {},
   "outputs": [],
   "source": [
    "weights.hist('T')\n",
    "plt.xlabel(\"Weight (Pounds)\")\n",
    "plt.title(\"Distribution of Weights\");"
   ]
  },
  {
   "cell_type": "markdown",
   "metadata": {},
   "source": [
    "We can also use matplotlib directly with `plt.hist(numerical_array)`. Note the default y-axis is different from the Data 8 version.\n",
    "\n",
    "**This axis represents the number of data points in each bin.** The shape of the two distributions are the same, but they represent different information. This is a key distinction between Data 8's histogram and matplotlib's histogram; make sure to be careful about this!"
   ]
  },
  {
   "cell_type": "code",
   "execution_count": null,
   "metadata": {},
   "outputs": [],
   "source": [
    "plt.hist(weights.column('T'))\n",
    "plt.xlabel(\"Weight (Pounds)\")\n",
    "plt.title(\"Distribution of Weights\");"
   ]
  },
  {
   "cell_type": "markdown",
   "metadata": {},
   "source": [
    "#### `density`"
   ]
  },
  {
   "cell_type": "markdown",
   "metadata": {},
   "source": [
    "As seen above with matplotlib, we can represent different values per each bin. However, if you'd like to keep using matplotlib's histogram but change it in terms of proportion per unit like from Data 8, you can add the `density = True` argument to `plt.hist(...)` to make that change. Do remember that if you do so, make sure to multiply the height of the bar by 100 when calculating for the percentage per unit for a bar.\n",
    "\n",
    "Below is an example of a density-based matplotlib histogram."
   ]
  },
  {
   "cell_type": "code",
   "execution_count": null,
   "metadata": {},
   "outputs": [],
   "source": [
    "plt.hist(weights.column('T'), density=True)\n",
    "plt.xlabel(\"Weight (Pounds)\")\n",
    "plt.ylabel('Proportion per unit')\n",
    "plt.title(\"Distribution of Weights\");"
   ]
  },
  {
   "cell_type": "markdown",
   "metadata": {},
   "source": [
    "If you instead prefer to use Data 8's histogram but would like to get the number of data points in each bin, you can add `density = False` to the `tbl.hist(...)` function. Note that the y-axis label automatically changes to 'Count'."
   ]
  },
  {
   "cell_type": "code",
   "execution_count": null,
   "metadata": {},
   "outputs": [],
   "source": [
    "weights.hist('T', density = False)\n",
    "plt.xlabel(\"Weight (Pounds)\")\n",
    "plt.title(\"Distribution of Weights\");"
   ]
  },
  {
   "cell_type": "markdown",
   "metadata": {},
   "source": [
    "#### `bins`"
   ]
  },
  {
   "cell_type": "markdown",
   "metadata": {},
   "source": [
    "Bins are the \"boxes\" that hold your data. They can be of different sizes as explained before (ie. different widths), but it is good pratice to have bins of all the same sizes so that it is simpler to compare the percent of your data captured within one specific bin to another.\n",
    "\n",
    "There are two different types of bins you can generate. For the first way, you can just provide the number of bins you want in your plot and let Python decide the actual intervals. Python will then automatically split the data into equal sizes for the histogram.\n",
    "\n",
    "For example, with the 10 bins from the plot above, and with our `weights` data ranging from 90 to 280, Python calculates the best intervals for each bin (which would be $(280 - 90) ÷ 10 = 19$), returning 90-109 for the first, 110-129 for the second, 130-159 for the third, and so on & so forth.\n",
    "\n",
    "To use this way, add a `bins` argument inside your `plt.hist(...)` or `tbl.hist(...)` function, like so:"
   ]
  },
  {
   "cell_type": "code",
   "execution_count": null,
   "metadata": {},
   "outputs": [],
   "source": [
    "plt.hist(weights.column('T'), bins=10)\n",
    "plt.xlabel(\"Weight (Pounds)\")\n",
    "plt.title(\"Distribution of Weights\");"
   ]
  },
  {
   "cell_type": "markdown",
   "metadata": {},
   "source": [
    "***"
   ]
  },
  {
   "cell_type": "markdown",
   "metadata": {},
   "source": [
    "### Question 5\n",
    "Plot two histograms with different bins sizes to compare them, one with 5 bins and the other with 15. You can either make a figure with 2 subplots or make 2 separate single plots. Make sure you plots are properly labeled."
   ]
  },
  {
   "cell_type": "code",
   "execution_count": null,
   "metadata": {},
   "outputs": [],
   "source": [
    "..."
   ]
  },
  {
   "cell_type": "markdown",
   "metadata": {},
   "source": [
    "***"
   ]
  },
  {
   "cell_type": "markdown",
   "metadata": {},
   "source": [
    "The second way is by manually inputting each value you want per bin. To create the bins, you provide an array from the lowest bound to the upper bound of your histogram with each number in between them representing the start of a new bin. This allows us to make uneven bins and represent data in a unique and often deceiving way.\n",
    "\n",
    "Below is a clear but odd example of utilizing this method."
   ]
  },
  {
   "cell_type": "code",
   "execution_count": null,
   "metadata": {},
   "outputs": [],
   "source": [
    "# ADDED BINS\n",
    "plt.title(\"Distribution of Weights\");\n",
    "\n",
    "# MATPLOTLIB\n",
    "plt.hist(weights.column('T'), bins=np.array([80, 100, 130, 140, 300]), density = True)\n",
    "\n",
    "# DATA 8 \n",
    "weights.hist('T', bins=np.array([80, 100, 130, 140, 300]))\n",
    "\n",
    "plt.xlabel(\"Weight (Pounds)\");"
   ]
  },
  {
   "cell_type": "markdown",
   "metadata": {},
   "source": [
    "To avoid making a poorly graphed histogram, it is helpful to use `np.arange(start, end, step)` which can make an array of values that are evenly spaced from the start to the end.\n",
    "\n",
    "*Remember: `np.arange()` excludes the last number in `end`!*"
   ]
  },
  {
   "cell_type": "markdown",
   "metadata": {},
   "source": [
    "#### `color`"
   ]
  },
  {
   "cell_type": "markdown",
   "metadata": {},
   "source": [
    "For histograms, you can use only one color per dataset. If you have multiple histograms displayed over each other, each dataset will each have a single color.\n",
    "\n",
    "**Note:** To plot two histograms over each other, code for each histogram in the same cell."
   ]
  },
  {
   "cell_type": "code",
   "execution_count": null,
   "metadata": {},
   "outputs": [],
   "source": [
    "# ADDED COLOR\n",
    "plt.hist(weights.column('T'), bins= 5, density = True, color='pink')\n",
    "plt.hist(weights.column('T'), bins= 15, density = True, color='yellow')\n",
    "\n",
    "plt.xlabel(\"Weight (Pounds)\")\n",
    "plt.ylabel('Percent per unit')\n",
    "plt.title(\"Distribution of Weights\");"
   ]
  },
  {
   "cell_type": "markdown",
   "metadata": {},
   "source": [
    "### c) Line Plots\n",
    "**Line plots are used to contextualize a numerical data set in regards to the passage of time.** Theses plots take a single numerical data set and plot it across a time axis. The x-axis is often related with time and allows us to draw conclusions based on the patterns we see."
   ]
  },
  {
   "cell_type": "markdown",
   "metadata": {},
   "source": [
    "Let's take a closer look with another example. Here, we're creating another small table with fictional data on the number of college students (in millions) from each year."
   ]
  },
  {
   "cell_type": "code",
   "execution_count": null,
   "metadata": {},
   "outputs": [],
   "source": [
    "over_time = Table().with_columns(\"Students\", np.array([4.5, 6.7, 8, 10, 15, 17 , 20]),\n",
    "                                 \"Years\", np.arange(1950, 2020, 10))\n",
    "over_time"
   ]
  },
  {
   "cell_type": "markdown",
   "metadata": {},
   "source": [
    "#### `color`"
   ]
  },
  {
   "cell_type": "markdown",
   "metadata": {},
   "source": [
    "In Data 8, we use the `tbl.plot(...)` function to create our line plots."
   ]
  },
  {
   "cell_type": "code",
   "execution_count": null,
   "metadata": {},
   "outputs": [],
   "source": [
    "over_time.plot(\"Years\", 'Students')\n",
    "plt.xlabel(\"Year\")\n",
    "plt.ylabel(\"Number of College Students (millions)\")\n",
    "plt.grid()"
   ]
  },
  {
   "cell_type": "markdown",
   "metadata": {},
   "source": [
    "Here is the matplotlib format: `plt.plot(...)`. Add a color argument to change the line's color."
   ]
  },
  {
   "cell_type": "code",
   "execution_count": null,
   "metadata": {},
   "outputs": [],
   "source": [
    "plt.plot(over_time.column('Years'), over_time.column('Students'), color='green')\n",
    "plt.xlabel(\"Year\")\n",
    "plt.ylabel(\"Number of College Students (millions)\")\n",
    "plt.grid()"
   ]
  },
  {
   "cell_type": "markdown",
   "metadata": {},
   "source": [
    "**Note:** If you are plotting multiple lines, it is helpful to use different colors for each line. Make sure to also not forget to add a legend to distinguish between the lines!"
   ]
  },
  {
   "cell_type": "markdown",
   "metadata": {},
   "source": [
    "#### `marker` and `markersize`"
   ]
  },
  {
   "cell_type": "markdown",
   "metadata": {},
   "source": [
    "Markers indicate the exact points from your data. You can make those points stand out so that you can distinguish between the estimated lines and the actual data points with the `marker` argument. There are many different [markers](https://matplotlib.org/3.1.1/api/markers_api.html#module-matplotlib.markers), so please look over this list if you are interested in learning more about the different types. \n",
    "\n",
    "We can also change the size of the marker with the `markersize` argument so that it stands out more, or even less!"
   ]
  },
  {
   "cell_type": "code",
   "execution_count": null,
   "metadata": {},
   "outputs": [],
   "source": [
    "plt.plot(over_time.column('Years'), over_time.column('Students'), marker='o', markersize=5)\n",
    "plt.xlabel(\"Year\")\n",
    "plt.ylabel(\"Number of College Students (millions)\")\n",
    "plt.grid()"
   ]
  },
  {
   "cell_type": "markdown",
   "metadata": {},
   "source": [
    "#### `linestyle` and `linewidth`"
   ]
  },
  {
   "cell_type": "markdown",
   "metadata": {},
   "source": [
    "In addition to modifying markers, you can also adjust the style and width of the line itself. By default, the line you plot will be a solid line with a small width. However, you can change it to either a dotted line, a dashed line, or a few more other types by adding a `linestyle` argument. Check out the different linestyles that you can graph [here](https://matplotlib.org/3.1.1/api/_as_gen/matplotlib.lines.Line2D.html#matplotlib.lines.Line2D.set_linestyle). You can also change the width of the line with the `linewidth` argument.\n",
    "\n",
    "Here are two examples of different combinations."
   ]
  },
  {
   "cell_type": "code",
   "execution_count": null,
   "metadata": {},
   "outputs": [],
   "source": [
    "# Example 1, with dashed lines of width 5\n",
    "plt.plot(over_time.column('Years'), over_time.column('Students'), linestyle= '--', linewidth=5)\n",
    "plt.xlabel(\"Year\")\n",
    "plt.ylabel(\"Number of College Students (millions)\")\n",
    "plt.grid()"
   ]
  },
  {
   "cell_type": "code",
   "execution_count": null,
   "metadata": {
    "scrolled": true
   },
   "outputs": [],
   "source": [
    "# Example 2, with dotted lines of width 4\n",
    "plt.plot(over_time.column('Years'), over_time.column('Students'), linestyle= ':', linewidth=4)\n",
    "plt.xlabel(\"Year\")\n",
    "plt.ylabel(\"Number of College Students (millions)\")\n",
    "plt.grid()"
   ]
  },
  {
   "cell_type": "markdown",
   "metadata": {},
   "source": [
    "***"
   ]
  },
  {
   "cell_type": "markdown",
   "metadata": {},
   "source": [
    "### Question 6\n",
    "Make a single subplot of a line graph that is properly labeled on a 9x9-dimension figure. Use a different marker other than `'o'` and a markersize above 5. For the labels on the plot, use a consistent font across your labels and a readable fontsize. Add a different linestyle and width as you see fit!"
   ]
  },
  {
   "cell_type": "code",
   "execution_count": null,
   "metadata": {},
   "outputs": [],
   "source": [
    "..."
   ]
  },
  {
   "cell_type": "markdown",
   "metadata": {},
   "source": [
    "***"
   ]
  },
  {
   "cell_type": "markdown",
   "metadata": {},
   "source": [
    "### d) Scatter Plots\n",
    "**Scatter plots are graphs that compare the relationshp between two different numerical data sets.** The relationship between the two data sets is also called the *association between the two variables*. \n",
    "\n",
    "The association can be either positive or negative. If the scatter plots are following a positive trend (or generally have a positive slope), this indicates a positive association, meaning the two variables are both increasing or decreasing together. If the scatter plots are following a negative trend (or a negative slope), this indicates a negative association, meaning one variable is increasing while the other is decreasing, or vice versa.\n",
    "\n",
    "To help you remember, you can refer to the following.\n",
    "\n",
    "<div align=\"center\">For Positive associations, you can have either:\n",
    "    \n",
    "$$\n",
    "+/+, \\space -/-\n",
    "$$\n",
    "\n",
    "<div align=\"center\">For Negative associations, you can have either:\n",
    "$$\n",
    "+/-, \\space -/+\n",
    "$$\n",
    "\n",
    "Let's walk through an example with the following table."
   ]
  },
  {
   "cell_type": "code",
   "execution_count": null,
   "metadata": {},
   "outputs": [],
   "source": [
    "debt = Table().with_columns(\"Number of College Students (millions)\", [4.5,6.7, 8,10,15,17,20],\n",
    "                            \"Student Debt (thousands)\", [1, 3 ,5 ,8, 20, 25, 36])\n",
    "debt"
   ]
  },
  {
   "cell_type": "markdown",
   "metadata": {},
   "source": [
    "We can make a scatterplot to analyze the relationship between the two numerical variables (in our case, the number of college students vs the student debt) by using `tbl.scatter(...)`, like in Data 8. Notice that our axes are automatically labeled based on the title of the columns."
   ]
  },
  {
   "cell_type": "code",
   "execution_count": null,
   "metadata": {},
   "outputs": [],
   "source": [
    "debt.scatter(\"Number of College Students (millions)\", \"Student Debt (thousands)\")\n",
    "plt.grid()\n",
    "plt.show()"
   ]
  },
  {
   "cell_type": "markdown",
   "metadata": {},
   "source": [
    "We can also use `plt.scatter(...)` with the similar features in `linestyle` and `color` that you explored in line plots previously."
   ]
  },
  {
   "cell_type": "code",
   "execution_count": null,
   "metadata": {},
   "outputs": [],
   "source": [
    "# Plot 1\n",
    "new_x = np.arange(4, 22)\n",
    "plt.plot(new_x, 2*new_x - 10, linestyle='-', color='purple');"
   ]
  },
  {
   "cell_type": "code",
   "execution_count": null,
   "metadata": {},
   "outputs": [],
   "source": [
    "# Plot 2 with added color\n",
    "plt.scatter(debt.column(\"Number of College Students (millions)\"), debt.column(\"Student Debt (thousands)\"),\n",
    "            color = 'blue', marker = 'v')\n",
    "\n",
    "plt.xlabel(\"Number of College Students (millions)\")\n",
    "plt.ylabel(\"Student Debt (thousands)\")\n",
    "plt.grid()\n",
    "plt.show()"
   ]
  },
  {
   "cell_type": "markdown",
   "metadata": {},
   "source": [
    "### Congratulations! You made it to the end!"
   ]
  },
  {
   "cell_type": "markdown",
   "metadata": {},
   "source": [
    "These are only some tips for creating effective visualizations, and some may play stronger than others depending on the actual data you are dealing with.\n",
    "\n",
    "Overall, using either the functions from Data 8 or the matplotlib library will create a plot that is both powerful and insightful. Depending on what features you want to alter however, one may be better than the other."
   ]
  }
 ],
 "metadata": {
  "kernelspec": {
   "display_name": "Python 3",
   "language": "python",
   "name": "python3"
  },
  "language_info": {
   "codemirror_mode": {
    "name": "ipython",
    "version": 3
   },
   "file_extension": ".py",
   "mimetype": "text/x-python",
   "name": "python",
   "nbconvert_exporter": "python",
   "pygments_lexer": "ipython3",
   "version": "3.7.6"
  }
 },
 "nbformat": 4,
 "nbformat_minor": 2
}
