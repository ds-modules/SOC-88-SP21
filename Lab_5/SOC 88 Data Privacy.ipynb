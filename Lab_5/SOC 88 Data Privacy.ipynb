{
 "cells": [
  {
   "cell_type": "markdown",
   "metadata": {},
   "source": [
    "# Digital Health: Deidentification & Privacy\n",
    "*Estimated Time: 1 hour*\n",
    "\n",
    "Developers: Hikari Murayama & Ashley Quiterio\n",
    "\n",
    "Welcome! In this Jupyter Notebooks, we will learn about sensitive research data with a focus on privacy and data de-identification. Specifically, we will explore how data can be re-identified if participants have characteristics that stand out. Then, investigate potential ethical questions around working with sensitive location research data.\n",
    "\n",
    "<img src=\"images/data_security.jpeg\" width=700 height=700 />\n",
    "\n",
    "<center> <a href=\"https://medium.com/@michaelarleigh/data-re-identification-and-the-end-of-privacy-4cf7f4102612\">Image Source</a> </center>\n",
    "\n",
    "Some questions to consider when walking through this notebook are: \n",
    "1. What kind of risks will my participants face if their data is re-identified? \n",
    "2. Will data breaches affect some participants more than others? \n",
    "3. What are the rights of research participants when it comes to data collection?\n"
   ]
  },
  {
   "cell_type": "markdown",
   "metadata": {},
   "source": [
    "## Table of Contents:\n",
    "1. <a href='#section1'>Data</a>\n",
    "\n",
    "    1.1 <a href='#section1a'>Step Data</a>\n",
    "    \n",
    "    1.2 <a href='#section1b'>GPS Data</a>\n",
    "    \n",
    "\n",
    "2. <a href='#section2'>Deidentifying Data</a>\n",
    "    \n",
    "    2.1. <a href='#section2a'>What can be used to identify an individual?</a>\n",
    "    \n",
    "    2.2. <a href='#section2b'>How does each individual vary from the rest?</a>\n",
    "    \n",
    "    2.3. <a href='#section2c'>How can we protect the privacy of participants whose locations are recorded?</a>\n",
    "\n",
    "\n",
    "3. <a href='#section3'>GPS Analysis</a>\n",
    "\n",
    "    3.1 <a href='#section3a'>Spatial Aggregation </a>\n",
    "\n",
    "    3.2 <a href='#section3b'>Temporal Aggregation</a>\n",
    "    \n",
    "    \n",
    "4. <a href='#section3'>Next Steps</a>\n",
    " \n"
   ]
  },
  {
   "cell_type": "code",
   "execution_count": null,
   "metadata": {},
   "outputs": [],
   "source": [
    "# Import Libraries\n",
    "import pandas as pd\n",
    "import geopandas as gpd\n",
    "import numpy as np\n",
    "\n",
    "# Plotting & Mapping Libraries\n",
    "import matplotlib.pyplot as plt\n",
    "import contextily as cx"
   ]
  },
  {
   "cell_type": "markdown",
   "metadata": {},
   "source": [
    "## 1. Data <a id='section1'></a>\n",
    "\n",
    "Let us start by introducing the key datasets. For this analysis, you will be using data from the [**Diamante Study**](https://diamante.healthysms.org). This mobile health study revolves around a phone application that collects data on each user's daily step count. Participants occasionally receive text messages to encourage increasing physical activity. You'll work with two datasets from this study: a *step dataset* and a *gps dataset*. \n",
    "\n",
    "### 1.1 Step data <a id='section1a'></a>\n",
    "This dataset contains information on the step data of 101 participants from the Diamante Study. Each row represents the step information for a specific participant on a specific day. There are 54 columns and 13,197 rows. "
   ]
  },
  {
   "cell_type": "code",
   "execution_count": null,
   "metadata": {},
   "outputs": [],
   "source": [
    "step_df = pd.read_csv(\"diamante_data_students_2_12_steps.csv\")\n",
    "subset_step_df = step_df[[\"Participant\",'gender_is_male', 'gender_is_female', 'gender_is_other', 'age',\n",
    "                          'week_steps', 'day_steps_0', \"daily_goal\", \"weekly_goal\"]]\n",
    "\n",
    "grouped_step = subset_step_df.groupby(\"Participant\").mean() \n",
    "grouped_step = grouped_step.rename(columns={'gender_is_male': \"Male\", 'gender_is_female': \"Female\", \n",
    "                                            \"gender_is_other\":\"Other\", \"age\": \"Age\", \n",
    "                                            \"week_steps\":\"Steps per Week\",\n",
    "                                            \"day_steps_0\":\"Steps per Day\", \"daily_goal\": \"Daily Goal\",\n",
    "                                            \"weekly_goal\": \"Weekly Goal\"})\n",
    "grouped_step.head()"
   ]
  },
  {
   "cell_type": "markdown",
   "metadata": {},
   "source": [
    "### 1.2 GPS data <a id='section1b'></a>\n",
    "\n",
    "The Diamante study also collected geographic data from these participants. We have included one set of these GPS data for one participant, \n",
    "> Note: This dataset has gone through some modifications from its original form to protect privacy to be used within this module. As an extra precaution, please do not share this data with anyone else and only use on your personal computer. *Do not upload this data to any public sites or domains*"
   ]
  },
  {
   "cell_type": "code",
   "execution_count": null,
   "metadata": {},
   "outputs": [],
   "source": [
    "location_gdf = gpd.read_file('example_gps_data.json')\n",
    "\n",
    "# Coerce datetime variable to be in pandas recognized date time\n",
    "location_gdf['datetime'] = pd.to_datetime(location_gdf['datetime'], infer_datetime_format=True, utc=True)\n",
    "\n",
    "location_gdf.head()"
   ]
  },
  {
   "cell_type": "markdown",
   "metadata": {},
   "source": [
    "## 2. Deidentifying Data <a id='section2'></a>"
   ]
  },
  {
   "cell_type": "markdown",
   "metadata": {},
   "source": [
    "<u>Before proceeding, please read section 6, *Privacy and Security*, in the **Data Science Social Justice Toolkit**.</u>\n",
    "<br>\n",
    "<br>\n",
    "\n",
    "\n",
    "The purpose of deidentifying data is to protect the individuals represented with data. This process is not uniform for every dataset with sensitive information. Some common techniques include adding noise to the data, creating synthetic data based on real people, and hiding identifiable features. \n",
    "\n",
    "Overall, this process brings into question what data should be collected during studies. How essential is all the information being collected for the sake of a study. Using digital health as a case study, we will explore how difficult it is to deidentify data, but still have something useful for analysis."
   ]
  },
  {
   "cell_type": "markdown",
   "metadata": {},
   "source": [
    "### 2.1: What can be used to identify an individual? <a id='section2a'></a>\n",
    "\n",
    "Let's start by adding a new point to our original dataset. Recall your physical activity over the past few months. \n",
    "\n",
    "<div class=\"alert alert-info\">\n",
    "    \n",
    "**Question 1:** What was your average step count on a given day? And, what was your daily step goal?\n",
    "\n",
    "</div>"
   ]
  },
  {
   "cell_type": "markdown",
   "metadata": {},
   "source": [
    "**WRITE YOUR ANSWER HERE. REPLACE THIS LINE WITH YOUR ANSWER BY DOUBLE-CLICKING THE CELL.**\n"
   ]
  },
  {
   "cell_type": "markdown",
   "metadata": {},
   "source": [
    "How might this compare to others in the DIAMANTE study? Let's take a look into the study participants data. Below is a table and scatter plot comparing average steps per day against that individuals average daily goal."
   ]
  },
  {
   "cell_type": "code",
   "execution_count": null,
   "metadata": {},
   "outputs": [],
   "source": [
    "participant_data = grouped_step[['Steps per Day', 'Daily Goal']]\n",
    "participant_data.plot.scatter(\"Daily Goal\", 'Steps per Day')\n",
    "\n",
    "participant_data.head()"
   ]
  },
  {
   "cell_type": "markdown",
   "metadata": {},
   "source": [
    "<div class=\"alert alert-info\">\n",
    "\n",
    "**Question 2:** What patterns do you notice in the plot?\n",
    "</div>"
   ]
  },
  {
   "cell_type": "markdown",
   "metadata": {},
   "source": [
    "**WRITE YOUR ANSWER HERE.**\n"
   ]
  },
  {
   "cell_type": "markdown",
   "metadata": {},
   "source": [
    "---\n",
    "Now that we have an understanding for the individuals in the study, let's add your data to the plot."
   ]
  },
  {
   "cell_type": "code",
   "execution_count": null,
   "metadata": {},
   "outputs": [],
   "source": [
    "def add_point(daily_goal, number_steps):\n",
    "    participant_data.plot.scatter(\"Daily Goal\", 'Steps per Day')\n",
    "    plt.scatter(daily_goal, number_steps, color='r');\n",
    "    print(\"Your point was added with a daily goal of\", daily_goal, \"steps and\", number_steps, \"average number of steps.\")"
   ]
  },
  {
   "cell_type": "code",
   "execution_count": null,
   "metadata": {},
   "outputs": [],
   "source": [
    "# Run the add_point function \n",
    "add_point(1500, 10000)"
   ]
  },
  {
   "cell_type": "markdown",
   "metadata": {},
   "source": [
    "Depending on the uniqueness of your reponse, your point is either hidden among others or an outlier in the scatterplot. \n",
    "\n",
    "<div class=\"alert alert-info\">\n",
    "\n",
    "**Question 3:** What might this mean for other individuals in the data? How identifiable are individuals who stray from the \"norm\" in visualizations? What risks might they face if their data is not deidentified?</div>\n"
   ]
  },
  {
   "cell_type": "markdown",
   "metadata": {},
   "source": [
    "**WRITE YOUR ANSWER HERE.**"
   ]
  },
  {
   "cell_type": "markdown",
   "metadata": {},
   "source": [
    "With only two features, there are only a few individuals who have a unique pair of average steps and step goals. However, how will this number increase if we include another feature (consider gender, age, race)?"
   ]
  },
  {
   "cell_type": "code",
   "execution_count": null,
   "metadata": {},
   "outputs": [],
   "source": [
    "gender_cat = pd.Series(grouped_step[[\"Male\", \"Female\", \"Other\"]].columns[np.where(grouped_step[[\"Male\", \"Female\", \"Other\"]]!=0)[1]])\n",
    "gender_cat\n",
    "\n",
    "gender_col = pd.DataFrame(gender_cat)\n",
    "\n",
    "with_gender = grouped_step[['Steps per Day', 'Daily Goal']].reset_index()\n",
    "with_gender['Gender'] = gender_col\n",
    "\n",
    "gender_nums = {0: {\"Male\": 'red', \"Female\": 'blue', 'Other': 'gold'}}\n",
    "gender_col_1 = gender_col.replace(gender_nums)[0]\n",
    "\n",
    "with_gender['Color by Gender'] = gender_col_1\n",
    "with_gender.head()"
   ]
  },
  {
   "cell_type": "code",
   "execution_count": null,
   "metadata": {},
   "outputs": [],
   "source": [
    "with_gender.plot.scatter(\"Daily Goal\", 'Steps per Day', color=gender_col_1);"
   ]
  },
  {
   "cell_type": "code",
   "execution_count": null,
   "metadata": {},
   "outputs": [],
   "source": [
    "# separate by gender into subplots \n",
    "fig = plt.figure(facecolor='white', figsize=(15,4));\n",
    "ax = fig.add_subplot(131)\n",
    "ax1 = fig.add_subplot(132)\n",
    "ax2 = fig.add_subplot(133)\n",
    "\n",
    "with_gender[with_gender['Gender'] =='Male'].plot.scatter(\"Daily Goal\", 'Steps per Day', ax=ax, color='red');\n",
    "with_gender[with_gender['Gender'] =='Female'].plot.scatter(\"Daily Goal\", 'Steps per Day', ax=ax1, color='blue');\n",
    "with_gender[with_gender['Gender'] =='Other'].plot.scatter(\"Daily Goal\", 'Steps per Day', ax=ax2, color='gold');\n",
    "\n",
    "ax.set_title('Male Participants');\n",
    "ax1.set_title('Female Participants');\n",
    "ax2.set_title(\"Other Gendered Participants\");"
   ]
  },
  {
   "cell_type": "code",
   "execution_count": null,
   "metadata": {},
   "outputs": [],
   "source": [
    "def add_point_gender(gender, daily_goal, number_steps):\n",
    "#     Plots your daily goal by number of steps by gender across 3 scatterplots.\n",
    "    fig = plt.figure(facecolor='white', figsize=(15,4));\n",
    "    ax = fig.add_subplot(131)\n",
    "    ax1 = fig.add_subplot(132)\n",
    "    ax2 = fig.add_subplot(133)\n",
    "\n",
    "    with_gender[with_gender['Gender'] =='Male'].plot.scatter(\"Daily Goal\", 'Steps per Day', ax=ax, color='red');\n",
    "    with_gender[with_gender['Gender'] =='Female'].plot.scatter(\"Daily Goal\", 'Steps per Day', ax=ax1, color='blue');\n",
    "    with_gender[with_gender['Gender'] =='Other'].plot.scatter(\"Daily Goal\", 'Steps per Day', ax=ax2, color='gold');\n",
    "\n",
    "    ax.set_title('Male Participants');\n",
    "    ax1.set_title('Female Participants');\n",
    "    ax2.set_title(\"Other Gendered Participants\");\n",
    "    \n",
    "    if gender == 'Male':\n",
    "        axis = ax\n",
    "    elif gender =='Female':\n",
    "        axis = ax1\n",
    "    else: \n",
    "        axis = ax2\n",
    "    \n",
    "    axis.scatter(daily_goal, number_steps, color='cyan', marker='*');\n",
    "    print(\"Your point was added to the\", gender, \"participants\" ,\"with a daily goal of\", daily_goal, \"steps and\", number_steps, \"average number of steps.\")\n"
   ]
  },
  {
   "cell_type": "code",
   "execution_count": null,
   "metadata": {},
   "outputs": [],
   "source": [
    "# Select from a gender category (Male, Female, Other) and add your Daily Goal and Steps per Day\n",
    "add_point_gender(\"other\", 15000, 10000)"
   ]
  },
  {
   "cell_type": "markdown",
   "metadata": {},
   "source": [
    "The difference in unique features increases when there are fewer points (points are further organized by identifiable features)."
   ]
  },
  {
   "cell_type": "markdown",
   "metadata": {},
   "source": [
    "### 2.2: How does each individual vary from the rest? <a id='section2b'></a>\n",
    "\n",
    "We can compare individuals by investigating their impact on a distribution. To do this, we can use means and histograms. The following functions calculate the change in mean and distribution if we were to add a new `number_step` or `daily_goal` to the existing distributions."
   ]
  },
  {
   "cell_type": "code",
   "execution_count": null,
   "metadata": {},
   "outputs": [],
   "source": [
    "def comparison_by_steps(number_step):\n",
    "    study_steps = np.array(grouped_step['Steps per Day'])\n",
    "    original_mean = np.mean(study_steps)\n",
    "    study_steps_modified = np.append(study_steps, number_step)\n",
    "    modified_mean = np.mean(study_steps_modified)\n",
    "    \n",
    "    fig = plt.figure(facecolor='white', figsize=(15,4));\n",
    "    ax = fig.add_subplot(121)\n",
    "    ax1 = fig.add_subplot(122)\n",
    "    bins = np.arange(0,19000,1000)\n",
    "    ax.hist(study_steps, bins=bins, color='steelblue')\n",
    "    ax.scatter(modified_mean, 1, color='black')  \n",
    "    ax1.hist(study_steps_modified, bins=bins, color='dodgerblue')\n",
    "    ax1.scatter(original_mean, 1, color='black')\n",
    "    \n",
    "    ax.set_title(\"Original Distribution\")\n",
    "    ax1.set_title(\"Modified Distribution\")\n",
    "    print(\"The original distribution had\", round(original_mean,1),\"for its average number of steps.\")\n",
    "    print(\"The modified distribution had\", round(modified_mean,1),\"for its average number of steps.\")\n",
    "    "
   ]
  },
  {
   "cell_type": "code",
   "execution_count": null,
   "metadata": {},
   "outputs": [],
   "source": [
    "comparison_by_steps(10000)"
   ]
  },
  {
   "cell_type": "code",
   "execution_count": null,
   "metadata": {},
   "outputs": [],
   "source": [
    "def comparison_by_daily_goal(daily_goal):\n",
    "    study_goal = np.array(grouped_step['Daily Goal'])\n",
    "    original_mean = np.mean(study_goal)\n",
    "    study_goal_modified = np.append(study_goal, daily_goal)\n",
    "    modified_mean = np.mean(study_goal_modified)\n",
    "    \n",
    "    fig = plt.figure(facecolor='white', figsize=(15,4));\n",
    "    ax = fig.add_subplot(121)\n",
    "    ax1 = fig.add_subplot(122)\n",
    "    bins = np.arange(0,19000,1000)\n",
    "    ax.hist(study_goal, bins=bins, color='steelblue')\n",
    "    ax.scatter(modified_mean, 1, color='black')  \n",
    "    ax1.hist(study_goal_modified, bins=bins, color='dodgerblue')\n",
    "    ax1.scatter(original_mean, 1, color='black')\n",
    "    \n",
    "    ax.set_ylim([0,65])\n",
    "    ax1.set_ylim([0,65])\n",
    "    \n",
    "    ax.set_xlim([0,18000])\n",
    "    ax1.set_xlim([0,18000])\n",
    "    \n",
    "    ax.set_title(\"Original Distribution\")\n",
    "    ax1.set_title(\"Modified Distribution\")\n",
    "    print(\"The original distribution had\", round(original_mean,1),\"for its average daily goal.\")\n",
    "    print(\"The modified distribution had\", round(modified_mean,1),\"for its average daily goal.\")\n",
    "    "
   ]
  },
  {
   "cell_type": "code",
   "execution_count": null,
   "metadata": {},
   "outputs": [],
   "source": [
    "comparison_by_daily_goal(1000)"
   ]
  },
  {
   "cell_type": "markdown",
   "metadata": {},
   "source": [
    "<div class=\"alert alert-info\">\n",
    "\n",
    "**Question 4:** What is the impact of adding a new number of steps? How does that compare with adding a daily goal?</div>"
   ]
  },
  {
   "cell_type": "markdown",
   "metadata": {},
   "source": [
    "**WRITE YOUR ANSWER HERE.**"
   ]
  },
  {
   "cell_type": "markdown",
   "metadata": {},
   "source": [
    "### 2.3: How can we protect the privacy of participants whose locations are recorded? <a id='section2c'></a>\n",
    "\n",
    "In the **Data Science Social Justice Toolkit**'s section on Privacy and Security, the case-study introduces Sarah and her circumstances surrounding her app data. \n",
    "\n",
    "<div class=\"alert alert-info\">\n",
    "\n",
    "**Question 5:** Can you think of another example where tracking location data may pose as a danger for users?</div>"
   ]
  },
  {
   "cell_type": "markdown",
   "metadata": {},
   "source": [
    "**WRITE YOUR ANSWER HERE.**"
   ]
  },
  {
   "cell_type": "markdown",
   "metadata": {},
   "source": [
    "Now, let's look at our GPS data for one of the participants and think about how we could preserve study participants' privacy in terms of their location. The GPS data reports the location of our participant at different times."
   ]
  },
  {
   "cell_type": "code",
   "execution_count": null,
   "metadata": {
    "scrolled": true
   },
   "outputs": [],
   "source": [
    "location_gdf.head()"
   ]
  },
  {
   "cell_type": "markdown",
   "metadata": {},
   "source": [
    "We have information that tells us the date and time of the location and the coordinate of the location.\n",
    "\n",
    "Let's go ahead and check at what time intervals these coordinates are recorded."
   ]
  },
  {
   "cell_type": "code",
   "execution_count": null,
   "metadata": {},
   "outputs": [],
   "source": [
    "location_gdf['delta'] = (location_gdf['datetime']-location_gdf['datetime'].shift())\n",
    "location_gdf['delta'].describe()"
   ]
  },
  {
   "cell_type": "markdown",
   "metadata": {},
   "source": [
    "Assuming there is no interruption, this data was collected in 1 hour intervals.\n",
    "\n",
    "We can go ahead and plot this to get an idea of what we're working with. We'll add a base plot to make sure we understand what types of locations we're looking at. Each blue dot represents a location that was recorded in the GPS dataset at a certain time."
   ]
  },
  {
   "cell_type": "code",
   "execution_count": null,
   "metadata": {},
   "outputs": [],
   "source": [
    "fig, ax = plt.subplots(figsize=(20,20))\n",
    "location_gdf.to_crs('EPSG:3857').plot(ax=ax)\n",
    "cx.add_basemap(ax)"
   ]
  },
  {
   "cell_type": "markdown",
   "metadata": {},
   "source": [
    "## 3. GPS Analysis <a id='section3'></a>"
   ]
  },
  {
   "cell_type": "markdown",
   "metadata": {},
   "source": [
    "### 3.1 Spatial aggregation <a id='section3a'></a>\n",
    "\n",
    "As you can see, you can clearly see where this participant has gone and what areas they frequent. We're going to try *spatial aggregation* as one method to start protecting privacy. \n",
    "\n",
    "We'll try aggregating to the census block group level."
   ]
  },
  {
   "cell_type": "code",
   "execution_count": null,
   "metadata": {},
   "outputs": [],
   "source": [
    "# Read in census block groups\n",
    "agg_shp_gdf = gpd.read_file('zip://indata/cb_2018_06_bg_500k.zip')"
   ]
  },
  {
   "cell_type": "markdown",
   "metadata": {},
   "source": [
    "We're already created a function for you that aggregates for us. This function will find what census block group each location is in, and change that point to be the *centroid* of that polygon. The *centroid*, also known as the center of mass for your polygon, is a point where if you put the shape on the point of your finger it should be able to balance. For example, here is a map with the centroid of every state drawn.\n",
    "\n",
    "<img src=\"http://giscommons.org/files/2009/08/3.17.gif\">\n",
    "\n",
    "We've created a `spatial_agg` function to do this aggregation for you."
   ]
  },
  {
   "cell_type": "code",
   "execution_count": null,
   "metadata": {},
   "outputs": [],
   "source": [
    "# Spatial aggregation\n",
    "def spatial_agg(gdf, agg_shp_gdf,crs='EPSG:3857'):\n",
    "    '''\n",
    "    This function aggregates spatial locations to be the centroid of the aggregation shape.\n",
    "    Potential aggregation levels include, but are not limited to, the census block or census block group level.\n",
    "    Returns geodataframe with aggregated location.\n",
    "    Points that do not lie within the aggregate shapes are excluded.\n",
    "    \n",
    "    Inputs:\n",
    "    gdf: the geodataframe with point geometries meant to be spatially aggregated\n",
    "    agg_shp: the geometries to be aggregated to as a geodataframe. \n",
    "    crs: user defined epsg code. default is 3857\n",
    "    '''\n",
    "    \n",
    "    # Convert CRS to set one\n",
    "    gdf_crs = gdf.to_crs(crs)\n",
    "    agg_shp_gdf_crs = agg_shp_gdf.to_crs(crs)\n",
    "    \n",
    "    # spatial join\n",
    "    sjoined = gpd.sjoin(agg_shp_gdf_crs, gdf_crs)\n",
    "    \n",
    "    # find centroid of polygon\n",
    "    sjoined_centroid = sjoined['geometry'].centroid\n",
    "    \n",
    "    return sjoined_centroid"
   ]
  },
  {
   "cell_type": "markdown",
   "metadata": {},
   "source": [
    "Let's try running this on our location data and aggregate to the census block group level."
   ]
  },
  {
   "cell_type": "code",
   "execution_count": null,
   "metadata": {
    "scrolled": true
   },
   "outputs": [],
   "source": [
    "# Visualize with static mapping and then folium mapping\n",
    "sjoined_centroid = spatial_agg(location_gdf,agg_shp_gdf)\n",
    "sjoined_centroid.head()"
   ]
  },
  {
   "cell_type": "markdown",
   "metadata": {},
   "source": [
    "We can then visualize our results to see how our points have shifted. The blue points are our original points, while the pink points are our spatially aggregated ones."
   ]
  },
  {
   "cell_type": "code",
   "execution_count": null,
   "metadata": {},
   "outputs": [],
   "source": [
    "xmin, xmax, ymin, ymax = location_gdf.total_bounds"
   ]
  },
  {
   "cell_type": "code",
   "execution_count": null,
   "metadata": {},
   "outputs": [],
   "source": [
    "fig, ax = plt.subplots(figsize=(15,15))\n",
    "agg_shp_gdf.to_crs('EPSG:3857').plot(color='lightgrey', ax=ax)\n",
    "location_gdf.to_crs('EPSG:3857').plot(ax=ax)\n",
    "sjoined_centroid.plot(color='pink', ax=ax)\n",
    "ax.set_xlim(-1.364e7,-1.358e7)\n",
    "ax.set_ylim(4.54e6,4.57e6)"
   ]
  },
  {
   "cell_type": "markdown",
   "metadata": {},
   "source": [
    "And we can also plot this with our base map again to have a nice visual"
   ]
  },
  {
   "cell_type": "code",
   "execution_count": null,
   "metadata": {},
   "outputs": [],
   "source": [
    "fig, ax = plt.subplots(figsize=(15,15))\n",
    "location_gdf.to_crs('EPSG:3857').plot(ax=ax)\n",
    "sjoined_centroid.plot(color='pink', ax=ax)\n",
    "cx.add_basemap(ax)"
   ]
  },
  {
   "cell_type": "markdown",
   "metadata": {},
   "source": [
    "<div class=\"alert alert-info\">\n",
    "\n",
    "**Question 6:** \n",
    "Update the above map to answer the following questions: \n",
    "- What kind of changes does spatial aggregation introduce? \n",
    "- What impacts on study results do you foresee with using this method?\n",
    "    \n",
    "</div>"
   ]
  },
  {
   "cell_type": "markdown",
   "metadata": {},
   "source": [
    "**WRITE YOUR ANSWER HERE.**"
   ]
  },
  {
   "cell_type": "markdown",
   "metadata": {},
   "source": [
    "### 3.2 Temporal aggregation <a id='section3b'></a>\n",
    "\n",
    "Instead of aggregating in space, we can also aggregate our data over time. This means we can take the average location of a person for a specific time period.\n",
    "\n",
    "As before, we've created a function for you that does this aggregation. We've included some flexibility to change the aggregation unit and number of units if you decide to use this function later."
   ]
  },
  {
   "cell_type": "code",
   "execution_count": null,
   "metadata": {},
   "outputs": [],
   "source": [
    "# Temporal aggregation\n",
    "def temporal_agg(gdf,agg_time,dt_time_column = 'datetime', num=1):\n",
    "    '''\n",
    "    This function aggregates temporally, meaning locations will be averaged within a certain time frame.\n",
    "    \n",
    "    Inputs:\n",
    "    gdf: the geodataframe with point geometries meant to be spatially aggregated\n",
    "    dt_time_column: column name for date time\n",
    "    agg_time: user specified unit of aggregation. possibilities: hour, day, month, year\n",
    "    num: specify number of units to average over\n",
    "    '''\n",
    "    \n",
    "    # Extract longitude and latitude\n",
    "    gdf['x'] = gdf['geometry'].x\n",
    "    gdf['y'] = gdf['geometry'].y\n",
    "    \n",
    "    # Grab different date time components\n",
    "    gdf['year'] = gdf[dt_time_column].dt.year\n",
    "    gdf['month'] = gdf[dt_time_column].dt.month\n",
    "    gdf['day'] = gdf[dt_time_column].dt.day\n",
    "    gdf['hour'] = gdf[dt_time_column].dt.hour\n",
    "    \n",
    "    # Create grouping scheme if larger than 1 time unit\n",
    "    if num > 1:\n",
    "        gdf[agg_time] = pd.cut(gdf[agg_time], np.arange(0,gdf[agg_time].max()+1, num))\n",
    "    \n",
    "    # Group data\n",
    "    if agg_time =='year':\n",
    "        agg_columns = ['year']\n",
    "    elif agg_time =='month':\n",
    "        agg_columns = ['year','month']\n",
    "    elif agg_time =='day':\n",
    "        agg_columns = ['year','month','day']\n",
    "    elif agg_time =='hour':\n",
    "        agg_columns = ['year','month','day','hour']\n",
    "    \n",
    "    time_agg = gdf[agg_columns + ['x','y']].groupby(agg_columns, as_index=False).mean()\n",
    "    \n",
    "    # Remove points we don't have data for\n",
    "    time_agg  = time_agg[~time_agg.x.isna()]\n",
    "\n",
    "    # Coerce back to a geodataframe\n",
    "    time_agg_gdf = gpd.GeoDataFrame(time_agg, geometry=gpd.points_from_xy(time_agg.x, time_agg.y))\n",
    "    \n",
    "    time_agg_gdf.crs = gdf.crs\n",
    "\n",
    "    return time_agg_gdf\n",
    "\n"
   ]
  },
  {
   "cell_type": "markdown",
   "metadata": {},
   "source": [
    "Let's try taking a three hour average of our participant's location and see how that has changed."
   ]
  },
  {
   "cell_type": "code",
   "execution_count": null,
   "metadata": {},
   "outputs": [],
   "source": [
    "temporal_agg_gdf = temporal_agg(location_gdf,'hour',  dt_time_column = 'datetime', num=3)\n",
    "temporal_agg_gdf.head()"
   ]
  },
  {
   "cell_type": "markdown",
   "metadata": {},
   "source": [
    "Again, we'll visualize our results on top of our base map. This time our green points are those that have been temporally aggregated."
   ]
  },
  {
   "cell_type": "code",
   "execution_count": null,
   "metadata": {},
   "outputs": [],
   "source": [
    "# Visualize\n",
    "fig, ax = plt.subplots(figsize=(15,15))\n",
    "location_gdf.to_crs('EPSG:3857').plot(ax=ax)\n",
    "temporal_agg_gdf.to_crs('EPSG:3857').plot(color='green', ax=ax)\n",
    "cx.add_basemap(ax)"
   ]
  },
  {
   "cell_type": "markdown",
   "metadata": {},
   "source": [
    "<div class=\"alert alert-info\">\n",
    "\n",
    "**Question 7:** How do the results of this temporal aggregation differ from the spatial aggregation? What are the advantages and disadvantages of each method?\n",
    "</div>"
   ]
  },
  {
   "cell_type": "markdown",
   "metadata": {},
   "source": [
    "**WRITE YOUR ANSWER HERE.**"
   ]
  },
  {
   "cell_type": "markdown",
   "metadata": {},
   "source": [
    "As you may now see you could actually combine use different levels of aggregation for both methods, as well as combine temporal and spatial aggregation. This is the most basic level of aggregation and privacy preservation-- there are many more complex methods to go about this."
   ]
  },
  {
   "cell_type": "markdown",
   "metadata": {},
   "source": [
    "## 4. Next Steps <a id='section4'></a>\n",
    "\n",
    "After formatting these plots, your task is to use these visualizations or others of your own creation in developing a policy brief, impact plan, and explainer video. Remember to continue using the **Data Science Social Justice Toolkit** as a resource. Here are some questions that build off of the analysis above that could be useful to scope your project:\n",
    "\n",
    "For Step data:\n",
    "- Imagine you were part of a digital health project. \n",
    "    - What question would you want to ask and what columns in our dataset would you like to use? \n",
    "    - Which features would you not originally collect? \n",
    "- What features do you feel are most identifiable? How does your expectation compare to a plot? Follow the steps from part 2 and create another scatterplot that shows the power of another feature.\n",
    "- How would comparing distributions by gender be impacted by a new point?\n",
    "\n",
    "For GPS data:\n",
    "- *From a researcher perspective:* Recreate a statistic from Saeb et al and see how it differs by how these vary based on spatial or temporal aggregation? If you were a researcher, how would de-identification restrictions impact your results?\n",
    "- *From a researcher perspective:* Instead of removing data via aggregation, we cab also add noise by adding additional random points (there is no right way to do this!). How does this influence your results? How does this influence a statistic from the Saeb et al paper? \n",
    "- *From a participant perspective*: Turn your location history \"on\" for Google maps for a week and extract your data ([here's a useful tutorial on how to do that]()). Bring this in into Python and visualize it. Then try aggregating at different spatial and temporal scales. How does your comfort level change with these different aggregation techniques? As a consumer of these mobile health applications, what input would you want to have to the researchers using your data? What types of policies would help protect your privacy?\n",
    "\n",
    "\n",
    "Good luck!"
   ]
  }
 ],
 "metadata": {
  "kernelspec": {
   "display_name": "Python 3",
   "language": "python",
   "name": "python3"
  },
  "language_info": {
   "codemirror_mode": {
    "name": "ipython",
    "version": 3
   },
   "file_extension": ".py",
   "mimetype": "text/x-python",
   "name": "python",
   "nbconvert_exporter": "python",
   "pygments_lexer": "ipython3",
   "version": "3.7.4"
  }
 },
 "nbformat": 4,
 "nbformat_minor": 4
}
