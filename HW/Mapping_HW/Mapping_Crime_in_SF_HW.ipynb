{
 "cells": [
  {
   "cell_type": "markdown",
   "metadata": {},
   "source": [
    "# [SOC-88] Mapping Crime in San Francisco\n",
    "\n",
    "### Professor David Harding\n",
    "\n",
    "## Table of Contents\n",
    "\n",
    "[Introduction](#intro)\n",
    "\n",
    "[The Data](#data)\n",
    "\n",
    "[Base Maps](#1)\n",
    "   - [Question 1](#q1)\n",
    "\n",
    "[Markers](#2)\n",
    "   - [Question 2](#q2)\n",
    "   - [Question 3](#q3)\n",
    "   - [Question 4](#q4)\n",
    "    \n",
    "[Choropleth Maps](#3)\n",
    "   - [Question 5](#q5)\n",
    "   - [Question 6](#q6)\n",
    "\n"
   ]
  },
  {
   "cell_type": "markdown",
   "metadata": {},
   "source": [
    "## Introduction <a id='intro'></a>\n",
    "\n",
    "In this homework, you will practice different data mapping techniques you learned about in lecture and lab. The data has been taken from [SF Data](https://data.sfgov.org/), San Francisco's open data site. \n",
    "\n",
    "There are two main data files used in this assignment: **SFPD_incidents_2020.csv** and **sfpd-police-districts.geojson**. \n",
    "\n",
    "The first file, **SFPD_incidents_2020.csv**, has records of all police incidents that took place in 2016. Its columns contain information such as the latitude-longitude information of incidents, police precinct and neighborhood in which the incident occurred, time and date of the report, type of crime, etc. \n",
    "\n",
    "The second file, **sfpd-police-districts.geojson**, contains geographic information about the boundaries of San Francisco police districts. These boundaries are necessary for making choropleth plots.\n",
    "\n",
    "---\n"
   ]
  },
  {
   "cell_type": "markdown",
   "metadata": {},
   "source": [
    "We will begin by running a code cell that will load the libraries you'll be using."
   ]
  },
  {
   "cell_type": "code",
   "execution_count": 1,
   "metadata": {},
   "outputs": [],
   "source": [
    "# load the necessary software\n",
    "from datascience import *\n",
    "import numpy as np\n",
    "import pandas as pd\n",
    "import matplotlib.pyplot as plt\n",
    "%matplotlib inline\n",
    "import datetime\n",
    "import folium\n",
    "import json"
   ]
  },
  {
   "cell_type": "markdown",
   "metadata": {},
   "source": [
    "## The Data <a id='data'></a>\n"
   ]
  },
  {
   "cell_type": "markdown",
   "metadata": {},
   "source": [
    "Our main dataset comes from the [city of San Francisco's open data portal](https://data.sfgov.org/Public-Safety/Police-Department-Incident-Reports-2018-to-Present/wg3w-h783). \n",
    "\n",
    "Run the next cell to load the incident data."
   ]
  },
  {
   "cell_type": "code",
   "execution_count": 2,
   "metadata": {},
   "outputs": [
    {
     "data": {
      "text/html": [
       "<table border=\"1\" class=\"dataframe\">\n",
       "    <thead>\n",
       "        <tr>\n",
       "            <th>Incident Datetime</th> <th>Incident Date</th> <th>Incident Time</th> <th>Incident Year</th> <th>Incident Day of Week</th> <th>Report Datetime</th> <th>Row ID</th> <th>Incident ID</th> <th>Incident Number</th> <th>CAD Number</th> <th>Report Type Code</th> <th>Report Type Description</th> <th>Filed Online</th> <th>Incident Code</th> <th>Incident Category</th> <th>Incident Subcategory</th> <th>Incident Description</th> <th>Resolution</th> <th>Intersection</th> <th>CNN</th> <th>Police District</th> <th>Analysis Neighborhood</th> <th>Supervisor District</th> <th>Latitude</th> <th>Longitude</th> <th>point</th>\n",
       "        </tr>\n",
       "    </thead>\n",
       "    <tbody>\n",
       "        <tr>\n",
       "            <td>2020/01/07 04:00:00 AM</td> <td>2020/01/07   </td> <td>04:00        </td> <td>2020         </td> <td>Tuesday             </td> <td>2020/02/06 09:41:00 AM</td> <td>90012406372</td> <td>900124     </td> <td>206027460      </td> <td>nan        </td> <td>II              </td> <td>Coplogic Initial       </td> <td>1           </td> <td>6372         </td> <td>Larceny Theft    </td> <td>Larceny Theft - Other </td> <td>Theft, Other Property, $50-$200    </td> <td>Open or Active      </td> <td>nan         </td> <td>nan </td> <td>Out of SF      </td> <td>nan                  </td> <td>nan                </td> <td>nan     </td> <td>nan      </td> <td>nan  </td>\n",
       "        </tr>\n",
       "        <tr>\n",
       "            <td>2020/01/31 03:00:00 PM</td> <td>2020/01/31   </td> <td>15:00        </td> <td>2020         </td> <td>Friday              </td> <td>2020/01/31 03:00:00 PM</td> <td>89876863010</td> <td>898768     </td> <td>190783352      </td> <td>nan        </td> <td>IS              </td> <td>Initial Supplement     </td> <td>nan         </td> <td>63010        </td> <td>Warrant          </td> <td>Other                 </td> <td>Warrant Arrest, Local SF Warrant   </td> <td>Cite or Arrest Adult</td> <td>nan         </td> <td>nan </td> <td>Out of SF      </td> <td>nan                  </td> <td>nan                </td> <td>nan     </td> <td>nan      </td> <td>nan  </td>\n",
       "        </tr>\n",
       "        <tr>\n",
       "            <td>2020/04/07 10:00:00 AM</td> <td>2020/04/07   </td> <td>10:00        </td> <td>2020         </td> <td>Tuesday             </td> <td>2020/04/07 09:39:00 PM</td> <td>95329775025</td> <td>953297     </td> <td>200227624      </td> <td>2.00983e+08</td> <td>IS              </td> <td>Initial Supplement     </td> <td>nan         </td> <td>75025        </td> <td>Non-Criminal     </td> <td>Non-Criminal          </td> <td>Search Warrant Service             </td> <td>Cite or Arrest Adult</td> <td>nan         </td> <td>nan </td> <td>Out of SF      </td> <td>nan                  </td> <td>nan                </td> <td>nan     </td> <td>nan      </td> <td>nan  </td>\n",
       "        </tr>\n",
       "        <tr>\n",
       "            <td>2020/02/12 02:00:00 PM</td> <td>2020/02/12   </td> <td>14:00        </td> <td>2020         </td> <td>Wednesday           </td> <td>2020/02/13 02:30:00 PM</td> <td>90267006244</td> <td>902670     </td> <td>206033291      </td> <td>nan        </td> <td>II              </td> <td>Coplogic Initial       </td> <td>1           </td> <td>6244         </td> <td>Larceny Theft    </td> <td>Larceny - From Vehicle</td> <td>Theft, From Locked Vehicle, >$950  </td> <td>Open or Active      </td> <td>nan         </td> <td>nan </td> <td>Northern       </td> <td>nan                  </td> <td>nan                </td> <td>nan     </td> <td>nan      </td> <td>nan  </td>\n",
       "        </tr>\n",
       "        <tr>\n",
       "            <td>2020/01/13 08:10:00 PM</td> <td>2020/01/13   </td> <td>20:10        </td> <td>2020         </td> <td>Monday              </td> <td>2020/01/13 09:29:00 PM</td> <td>90358806224</td> <td>903588     </td> <td>206035407      </td> <td>nan        </td> <td>II              </td> <td>Coplogic Initial       </td> <td>1           </td> <td>6224         </td> <td>Larceny Theft    </td> <td>Larceny - From Vehicle</td> <td>Theft, From Unlocked Vehicle, >$950</td> <td>Open or Active      </td> <td>nan         </td> <td>nan </td> <td>Richmond       </td> <td>nan                  </td> <td>nan                </td> <td>nan     </td> <td>nan      </td> <td>nan  </td>\n",
       "        </tr>\n",
       "    </tbody>\n",
       "</table>\n",
       "<p>... (58037 rows omitted)</p>"
      ],
      "text/plain": [
       "<IPython.core.display.HTML object>"
      ]
     },
     "metadata": {},
     "output_type": "display_data"
    }
   ],
   "source": [
    "# load SF Police Incident Data, 2020\n",
    "incidents = Table().read_table('Data/SFPD_incidents_2020.csv')\n",
    "incidents.show(5)"
   ]
  },
  {
   "cell_type": "markdown",
   "metadata": {},
   "source": [
    "Each row in this table represents a different incident reported to the San Francisco Police Department (SFPD). Most of the columns are fairly intuitive, but we'll narrow down to a few that are of particular interest:\n",
    "\n",
    "- `Incident Number`and `Incident ID` are ID numbers to identify each different incident, used for organization within the police department.\n",
    "\n",
    "- `Incident Category` classifies the incident as of 49 types. We can see all possible categories using the `group` method."
   ]
  },
  {
   "cell_type": "code",
   "execution_count": 3,
   "metadata": {},
   "outputs": [
    {
     "data": {
      "text/html": [
       "<table border=\"1\" class=\"dataframe\">\n",
       "    <thead>\n",
       "        <tr>\n",
       "            <th>Incident Category</th> <th>count</th>\n",
       "        </tr>\n",
       "    </thead>\n",
       "    <tbody>\n",
       "        <tr>\n",
       "            <td>Arson                                     </td> <td>197  </td>\n",
       "        </tr>\n",
       "        <tr>\n",
       "            <td>Assault                                   </td> <td>3347 </td>\n",
       "        </tr>\n",
       "        <tr>\n",
       "            <td>Burglary                                  </td> <td>4078 </td>\n",
       "        </tr>\n",
       "        <tr>\n",
       "            <td>Case Closure                              </td> <td>176  </td>\n",
       "        </tr>\n",
       "        <tr>\n",
       "            <td>Civil Sidewalks                           </td> <td>25   </td>\n",
       "        </tr>\n",
       "        <tr>\n",
       "            <td>Courtesy Report                           </td> <td>137  </td>\n",
       "        </tr>\n",
       "        <tr>\n",
       "            <td>Disorderly Conduct                        </td> <td>982  </td>\n",
       "        </tr>\n",
       "        <tr>\n",
       "            <td>Drug Offense                              </td> <td>1356 </td>\n",
       "        </tr>\n",
       "        <tr>\n",
       "            <td>Drug Violation                            </td> <td>19   </td>\n",
       "        </tr>\n",
       "        <tr>\n",
       "            <td>Embezzlement                              </td> <td>85   </td>\n",
       "        </tr>\n",
       "        <tr>\n",
       "            <td>Family Offense                            </td> <td>81   </td>\n",
       "        </tr>\n",
       "        <tr>\n",
       "            <td>Fire Report                               </td> <td>84   </td>\n",
       "        </tr>\n",
       "        <tr>\n",
       "            <td>Forgery And Counterfeiting                </td> <td>185  </td>\n",
       "        </tr>\n",
       "        <tr>\n",
       "            <td>Fraud                                     </td> <td>1393 </td>\n",
       "        </tr>\n",
       "        <tr>\n",
       "            <td>Gambling                                  </td> <td>1    </td>\n",
       "        </tr>\n",
       "        <tr>\n",
       "            <td>Homicide                                  </td> <td>5    </td>\n",
       "        </tr>\n",
       "        <tr>\n",
       "            <td>Human Trafficking (A), Commercial Sex Acts</td> <td>5    </td>\n",
       "        </tr>\n",
       "        <tr>\n",
       "            <td>Human Trafficking, Commercial Sex Acts    </td> <td>4    </td>\n",
       "        </tr>\n",
       "        <tr>\n",
       "            <td>Larceny Theft                             </td> <td>15974</td>\n",
       "        </tr>\n",
       "        <tr>\n",
       "            <td>Liquor Laws                               </td> <td>10   </td>\n",
       "        </tr>\n",
       "        <tr>\n",
       "            <td>Lost Property                             </td> <td>1372 </td>\n",
       "        </tr>\n",
       "        <tr>\n",
       "            <td>Malicious Mischief                        </td> <td>4244 </td>\n",
       "        </tr>\n",
       "        <tr>\n",
       "            <td>Miscellaneous Investigation               </td> <td>570  </td>\n",
       "        </tr>\n",
       "        <tr>\n",
       "            <td>Missing Person                            </td> <td>1237 </td>\n",
       "        </tr>\n",
       "        <tr>\n",
       "            <td>Motor Vehicle Theft                       </td> <td>3175 </td>\n",
       "        </tr>\n",
       "        <tr>\n",
       "            <td>Motor Vehicle Theft?                      </td> <td>2    </td>\n",
       "        </tr>\n",
       "        <tr>\n",
       "            <td>Non-Criminal                              </td> <td>3461 </td>\n",
       "        </tr>\n",
       "        <tr>\n",
       "            <td>Offences Against The Family And Children  </td> <td>1192 </td>\n",
       "        </tr>\n",
       "        <tr>\n",
       "            <td>Other                                     </td> <td>589  </td>\n",
       "        </tr>\n",
       "        <tr>\n",
       "            <td>Other Miscellaneous                       </td> <td>4500 </td>\n",
       "        </tr>\n",
       "        <tr>\n",
       "            <td>Other Offenses                            </td> <td>534  </td>\n",
       "        </tr>\n",
       "        <tr>\n",
       "            <td>Prostitution                              </td> <td>50   </td>\n",
       "        </tr>\n",
       "        <tr>\n",
       "            <td>Rape                                      </td> <td>9    </td>\n",
       "        </tr>\n",
       "        <tr>\n",
       "            <td>Recovered Vehicle                         </td> <td>2359 </td>\n",
       "        </tr>\n",
       "        <tr>\n",
       "            <td>Robbery                                   </td> <td>1409 </td>\n",
       "        </tr>\n",
       "        <tr>\n",
       "            <td>Sex Offense                               </td> <td>149  </td>\n",
       "        </tr>\n",
       "        <tr>\n",
       "            <td>Stolen Property                           </td> <td>335  </td>\n",
       "        </tr>\n",
       "        <tr>\n",
       "            <td>Suicide                                   </td> <td>30   </td>\n",
       "        </tr>\n",
       "        <tr>\n",
       "            <td>Suspicious                                </td> <td>12   </td>\n",
       "        </tr>\n",
       "        <tr>\n",
       "            <td>Suspicious Occ                            </td> <td>1163 </td>\n",
       "        </tr>\n",
       "        <tr>\n",
       "            <td>Traffic Collision                         </td> <td>114  </td>\n",
       "        </tr>\n",
       "        <tr>\n",
       "            <td>Traffic Violation Arrest                  </td> <td>579  </td>\n",
       "        </tr>\n",
       "        <tr>\n",
       "            <td>Vandalism                                 </td> <td>144  </td>\n",
       "        </tr>\n",
       "        <tr>\n",
       "            <td>Vehicle Impounded                         </td> <td>36   </td>\n",
       "        </tr>\n",
       "        <tr>\n",
       "            <td>Vehicle Misplaced                         </td> <td>29   </td>\n",
       "        </tr>\n",
       "        <tr>\n",
       "            <td>Warrant                                   </td> <td>1706 </td>\n",
       "        </tr>\n",
       "        <tr>\n",
       "            <td>Weapons Carrying Etc                      </td> <td>307  </td>\n",
       "        </tr>\n",
       "        <tr>\n",
       "            <td>Weapons Offence                           </td> <td>3    </td>\n",
       "        </tr>\n",
       "        <tr>\n",
       "            <td>Weapons Offense                           </td> <td>403  </td>\n",
       "        </tr>\n",
       "        <tr>\n",
       "            <td>nan                                       </td> <td>185  </td>\n",
       "        </tr>\n",
       "    </tbody>\n",
       "</table>"
      ],
      "text/plain": [
       "<IPython.core.display.HTML object>"
      ]
     },
     "metadata": {},
     "output_type": "display_data"
    }
   ],
   "source": [
    "# show the unique categories from 'Incident Category'\n",
    "incidents.group(\"Incident Category\").show()"
   ]
  },
  {
   "cell_type": "markdown",
   "metadata": {},
   "source": [
    "- `Incident Description` gives more information on what occurred during the incident. You can think of the `Incident Description` as a subtype of the categories in `Incident Category`. Not only are there too many unique descriptions to list them all, but it's too descriptive for what we want to analyze later in this homework. It makes more sense to select a particular category and then list the possible descriptions for only that category. In the next cell, you can view the possible `Incident Description` values for incidents falling under the category `\"Non-Criminal\"`."
   ]
  },
  {
   "cell_type": "code",
   "execution_count": 4,
   "metadata": {},
   "outputs": [
    {
     "data": {
      "text/html": [
       "<table border=\"1\" class=\"dataframe\">\n",
       "    <thead>\n",
       "        <tr>\n",
       "            <th>Incident Description</th> <th>count</th>\n",
       "        </tr>\n",
       "    </thead>\n",
       "    <tbody>\n",
       "        <tr>\n",
       "            <td>Aided Case                                           </td> <td>528  </td>\n",
       "        </tr>\n",
       "        <tr>\n",
       "            <td>Aided Case -Property for Destruction                 </td> <td>27   </td>\n",
       "        </tr>\n",
       "        <tr>\n",
       "            <td>Aided Case, Injured or Sick Person                   </td> <td>66   </td>\n",
       "        </tr>\n",
       "        <tr>\n",
       "            <td>Aided Case, Sick Person                              </td> <td>9    </td>\n",
       "        </tr>\n",
       "        <tr>\n",
       "            <td>Aided case, Naloxone Deployment                      </td> <td>132  </td>\n",
       "        </tr>\n",
       "        <tr>\n",
       "            <td>Dog, Barking                                         </td> <td>1    </td>\n",
       "        </tr>\n",
       "        <tr>\n",
       "            <td>Dog, Bite or Attack                                  </td> <td>104  </td>\n",
       "        </tr>\n",
       "        <tr>\n",
       "            <td>Dog, Stray or Vicious                                </td> <td>4    </td>\n",
       "        </tr>\n",
       "        <tr>\n",
       "            <td>Firearm, Turned In by Public                         </td> <td>37   </td>\n",
       "        </tr>\n",
       "        <tr>\n",
       "            <td>Found  Property                                      </td> <td>763  </td>\n",
       "        </tr>\n",
       "        <tr>\n",
       "            <td>Hazardous Materials,  Dump any Substance into Water  </td> <td>1    </td>\n",
       "        </tr>\n",
       "        <tr>\n",
       "            <td>Hazardous Materials, Dumping in Unauthorized Location</td> <td>1    </td>\n",
       "        </tr>\n",
       "        <tr>\n",
       "            <td>Mental Health Detention                              </td> <td>1456 </td>\n",
       "        </tr>\n",
       "        <tr>\n",
       "            <td>Property for Identification                          </td> <td>13   </td>\n",
       "        </tr>\n",
       "        <tr>\n",
       "            <td>Search Warrant Service                               </td> <td>171  </td>\n",
       "        </tr>\n",
       "        <tr>\n",
       "            <td>Shooting, Accidental                                 </td> <td>3    </td>\n",
       "        </tr>\n",
       "        <tr>\n",
       "            <td>Stay Away or Court Order, Non-DV Related             </td> <td>145  </td>\n",
       "        </tr>\n",
       "    </tbody>\n",
       "</table>"
      ],
      "text/plain": [
       "<IPython.core.display.HTML object>"
      ]
     },
     "metadata": {},
     "output_type": "display_data"
    }
   ],
   "source": [
    "# show the unique incident descriptions for the 'Non-Criminal' category\n",
    "incidents.where(\"Incident Category\", \"Non-Criminal\").group('Incident Description').show()"
   ]
  },
  {
   "cell_type": "markdown",
   "metadata": {},
   "source": [
    "- `Resolution` gives information about what the police did for the respective incident. Once again, we can view all possible resolution options using the `group` method"
   ]
  },
  {
   "cell_type": "code",
   "execution_count": 5,
   "metadata": {},
   "outputs": [
    {
     "data": {
      "text/html": [
       "<table border=\"1\" class=\"dataframe\">\n",
       "    <thead>\n",
       "        <tr>\n",
       "            <th>Resolution</th> <th>count</th>\n",
       "        </tr>\n",
       "    </thead>\n",
       "    <tbody>\n",
       "        <tr>\n",
       "            <td>Cite or Arrest Adult</td> <td>11945</td>\n",
       "        </tr>\n",
       "        <tr>\n",
       "            <td>Exceptional Adult   </td> <td>185  </td>\n",
       "        </tr>\n",
       "        <tr>\n",
       "            <td>Open or Active      </td> <td>45652</td>\n",
       "        </tr>\n",
       "        <tr>\n",
       "            <td>Unfounded           </td> <td>260  </td>\n",
       "        </tr>\n",
       "    </tbody>\n",
       "</table>"
      ],
      "text/plain": [
       "<IPython.core.display.HTML object>"
      ]
     },
     "metadata": {},
     "output_type": "display_data"
    }
   ],
   "source": [
    "# show the unique resolutions\n",
    "incidents.group(\"Resolution\").show()"
   ]
  },
  {
   "cell_type": "markdown",
   "metadata": {},
   "source": [
    "- Finally, `Latitude`, `Longitude`, and `point` give geographic data about the incident. Think of `Latitude` as your `Y` and `Longitude` as your `X`. `point` has both the latitude and longitude together as a pair of integers."
   ]
  },
  {
   "cell_type": "markdown",
   "metadata": {},
   "source": [
    "## Base Maps <a id='1'></a>"
   ]
  },
  {
   "cell_type": "markdown",
   "metadata": {},
   "source": [
    "### Question 1 <a id='q1'></a>\n",
    "Create a base map centered on San Francisco. Adjust the zoom start to get an appropriate view of San Francisco and add appropriate map tiles.\n",
    "\n",
    "*Note: we're going to be creating several maps in this homework, so it's easier to create variables for the starting coordinates, zoom, and tiles, and use them over and over again, rather than rewrite them in every map we make.*"
   ]
  },
  {
   "cell_type": "code",
   "execution_count": null,
   "metadata": {},
   "outputs": [],
   "source": [
    "# add coordinates for San Francisco\n",
    "sf_coordinates = [37.773972, -122.431297]\n",
    "sf_zoom_start = 10\n",
    "sf_tiles = ...\n",
    "\n",
    "# create a map of San Francisco\n",
    "sf_map = folium.Map(location=..., zoom_start=..., tiles=...)\n",
    "sf_map"
   ]
  },
  {
   "cell_type": "markdown",
   "metadata": {},
   "source": [
    "## Markers <a id='2'></a>"
   ]
  },
  {
   "cell_type": "markdown",
   "metadata": {},
   "source": [
    "In the next two cells, we've isolated two police incidents for you."
   ]
  },
  {
   "cell_type": "code",
   "execution_count": 6,
   "metadata": {},
   "outputs": [
    {
     "data": {
      "text/html": [
       "<table border=\"1\" class=\"dataframe\">\n",
       "    <thead>\n",
       "        <tr>\n",
       "            <th>Incident Datetime</th> <th>Incident Date</th> <th>Incident Time</th> <th>Incident Year</th> <th>Incident Day of Week</th> <th>Report Datetime</th> <th>Row ID</th> <th>Incident ID</th> <th>Incident Number</th> <th>CAD Number</th> <th>Report Type Code</th> <th>Report Type Description</th> <th>Filed Online</th> <th>Incident Code</th> <th>Incident Category</th> <th>Incident Subcategory</th> <th>Incident Description</th> <th>Resolution</th> <th>Intersection</th> <th>CNN</th> <th>Police District</th> <th>Analysis Neighborhood</th> <th>Supervisor District</th> <th>Latitude</th> <th>Longitude</th> <th>point</th>\n",
       "        </tr>\n",
       "    </thead>\n",
       "    <tbody>\n",
       "        <tr>\n",
       "            <td>2020/04/26 09:00:00 PM</td> <td>2020/04/26   </td> <td>21:00        </td> <td>2020         </td> <td>Sunday              </td> <td>2020/04/27 03:20:00 PM</td> <td>92273306244</td> <td>922733     </td> <td>200263101      </td> <td>2.01182e+08</td> <td>II              </td> <td>Initial                </td> <td>nan         </td> <td>6244         </td> <td>Larceny Theft    </td> <td>Larceny - From Vehicle</td> <td>Theft, From Locked Vehicle, >$950</td> <td>Open or Active</td> <td>HARKNESS AVE \\ SAN BRUNO AVE</td> <td>2.0556e+07</td> <td>Ingleside      </td> <td>Visitacion Valley    </td> <td>10                 </td> <td>37.7179 </td> <td>-122.4   </td> <td>(37.717906309071864, -122.40013147694049)</td>\n",
       "        </tr>\n",
       "    </tbody>\n",
       "</table>"
      ],
      "text/plain": [
       "Incident Datetime      | Incident Date | Incident Time | Incident Year | Incident Day of Week | Report Datetime        | Row ID      | Incident ID | Incident Number | CAD Number  | Report Type Code | Report Type Description | Filed Online | Incident Code | Incident Category | Incident Subcategory   | Incident Description              | Resolution     | Intersection                 | CNN        | Police District | Analysis Neighborhood | Supervisor District | Latitude | Longitude | point\n",
       "2020/04/26 09:00:00 PM | 2020/04/26    | 21:00         | 2020          | Sunday               | 2020/04/27 03:20:00 PM | 92273306244 | 922733      | 200263101       | 2.01182e+08 | II               | Initial                 | nan          | 6244          | Larceny Theft     | Larceny - From Vehicle | Theft, From Locked Vehicle, >$950 | Open or Active | HARKNESS AVE \\ SAN BRUNO AVE | 2.0556e+07 | Ingleside       | Visitacion Valley     | 10                  | 37.7179  | -122.4    | (37.717906309071864, -122.40013147694049)"
      ]
     },
     "execution_count": 6,
     "metadata": {},
     "output_type": "execute_result"
    }
   ],
   "source": [
    "incidentA = incidents.where(\"Incident ID\", 922733)\n",
    "incidentA"
   ]
  },
  {
   "cell_type": "code",
   "execution_count": 7,
   "metadata": {},
   "outputs": [
    {
     "data": {
      "text/html": [
       "<table border=\"1\" class=\"dataframe\">\n",
       "    <thead>\n",
       "        <tr>\n",
       "            <th>Incident Datetime</th> <th>Incident Date</th> <th>Incident Time</th> <th>Incident Year</th> <th>Incident Day of Week</th> <th>Report Datetime</th> <th>Row ID</th> <th>Incident ID</th> <th>Incident Number</th> <th>CAD Number</th> <th>Report Type Code</th> <th>Report Type Description</th> <th>Filed Online</th> <th>Incident Code</th> <th>Incident Category</th> <th>Incident Subcategory</th> <th>Incident Description</th> <th>Resolution</th> <th>Intersection</th> <th>CNN</th> <th>Police District</th> <th>Analysis Neighborhood</th> <th>Supervisor District</th> <th>Latitude</th> <th>Longitude</th> <th>point</th>\n",
       "        </tr>\n",
       "    </thead>\n",
       "    <tbody>\n",
       "        <tr>\n",
       "            <td>2020/01/01 02:41:00 AM</td> <td>2020/01/01   </td> <td>02:41        </td> <td>2020         </td> <td>Wednesday           </td> <td>2020/01/01 02:41:00 AM</td> <td>88677026031</td> <td>886770     </td> <td>200000389      </td> <td>2.00011e+08</td> <td>II              </td> <td>Initial                </td> <td>nan         </td> <td>26031        </td> <td>Arson            </td> <td>Arson               </td> <td>Arson of Vehicle    </td> <td>Open or Active</td> <td>23RD ST \\ CAROLINA ST</td> <td>3.3046e+07</td> <td>Bayview        </td> <td>Potrero Hill         </td> <td>10                 </td> <td>37.7547 </td> <td>-122.4   </td> <td>(37.75469183949377, -122.39957958699718)</td>\n",
       "        </tr>\n",
       "    </tbody>\n",
       "</table>"
      ],
      "text/plain": [
       "Incident Datetime      | Incident Date | Incident Time | Incident Year | Incident Day of Week | Report Datetime        | Row ID      | Incident ID | Incident Number | CAD Number  | Report Type Code | Report Type Description | Filed Online | Incident Code | Incident Category | Incident Subcategory | Incident Description | Resolution     | Intersection          | CNN        | Police District | Analysis Neighborhood | Supervisor District | Latitude | Longitude | point\n",
       "2020/01/01 02:41:00 AM | 2020/01/01    | 02:41         | 2020          | Wednesday            | 2020/01/01 02:41:00 AM | 88677026031 | 886770      | 200000389       | 2.00011e+08 | II               | Initial                 | nan          | 26031         | Arson             | Arson                | Arson of Vehicle     | Open or Active | 23RD ST \\ CAROLINA ST | 3.3046e+07 | Bayview         | Potrero Hill          | 10                  | 37.7547  | -122.4    | (37.75469183949377, -122.39957958699718)"
      ]
     },
     "execution_count": 7,
     "metadata": {},
     "output_type": "execute_result"
    }
   ],
   "source": [
    "incidentB = incidents.where(\"Incident ID\", 886770)\n",
    "incidentB"
   ]
  },
  {
   "cell_type": "markdown",
   "metadata": {},
   "source": [
    "### Question 2 <a id='q2'></a>\n",
    "Create a marker for each of the above incidents, including:\n",
    "* incident location\n",
    "* an appropriate and informative pop-up (appears when you hover over the marker)\n",
    "* an appropriate and informative tooltip (appears when you click on the marker)\n",
    "* an appropriate color and type for the icon, given the type of incident\n",
    "\n",
    "You can view the list of icon options at https://getbootstrap.com/docs/3.3/components/"
   ]
  },
  {
   "cell_type": "code",
   "execution_count": null,
   "metadata": {},
   "outputs": [],
   "source": [
    "# a clean map for the markers\n",
    "marker_map = folium.Map(location=sf_coordinates, zoom_start=sf_zoom_start, tiles=sf_tiles)\n",
    "\n",
    "# For Incident A\n",
    "coordinateA = [..., ...]\n",
    "popupA = ...\n",
    "tooltipA = ...\n",
    "folium.Marker(location=..., popup=..., \n",
    "              tooltip=..., icon=folium.Icon(color=..., icon=...)).add_to(marker_map)\n",
    "\n",
    "# view the map\n",
    "marker_map"
   ]
  },
  {
   "cell_type": "code",
   "execution_count": null,
   "metadata": {},
   "outputs": [],
   "source": [
    "# For Incident B\n",
    "coordinateB = [..., ...]\n",
    "popupB = ...\n",
    "tooltipB = ...\n",
    "folium.Marker(location=..., popup=..., \n",
    "              tooltip=..., icon=folium.Icon(color=..., icon=...)).add_to(marker_map)\n",
    "marker_map"
   ]
  },
  {
   "cell_type": "markdown",
   "metadata": {},
   "source": [
    "Next, we'd like to map all incidences of disorderly conduct.\n",
    "\n",
    "First, we make a table that only contains disorderly conduct incidents."
   ]
  },
  {
   "cell_type": "code",
   "execution_count": 8,
   "metadata": {},
   "outputs": [
    {
     "data": {
      "text/html": [
       "<table border=\"1\" class=\"dataframe\">\n",
       "    <thead>\n",
       "        <tr>\n",
       "            <th>Incident Datetime</th> <th>Incident Date</th> <th>Incident Time</th> <th>Incident Year</th> <th>Incident Day of Week</th> <th>Report Datetime</th> <th>Row ID</th> <th>Incident ID</th> <th>Incident Number</th> <th>CAD Number</th> <th>Report Type Code</th> <th>Report Type Description</th> <th>Filed Online</th> <th>Incident Code</th> <th>Incident Category</th> <th>Incident Subcategory</th> <th>Incident Description</th> <th>Resolution</th> <th>Intersection</th> <th>CNN</th> <th>Police District</th> <th>Analysis Neighborhood</th> <th>Supervisor District</th> <th>Latitude</th> <th>Longitude</th> <th>point</th>\n",
       "        </tr>\n",
       "    </thead>\n",
       "    <tbody>\n",
       "        <tr>\n",
       "            <td>2020/02/19 08:57:00 PM</td> <td>2020/02/19   </td> <td>20:57        </td> <td>2020         </td> <td>Wednesday           </td> <td>2020/02/19 09:15:00 PM</td> <td>96214819057</td> <td>962148     </td> <td>200127290      </td> <td>2.00504e+08</td> <td>IS              </td> <td>Initial Supplement     </td> <td>nan         </td> <td>19057        </td> <td>Disorderly Conduct</td> <td>Intimidation        </td> <td>Terrorist Threats                          </td> <td>Exceptional Adult   </td> <td>ANDOVER ST \\ RICHLAND AVE</td> <td>2.12e+07  </td> <td>Ingleside      </td> <td>Bernal Heights       </td> <td>9                  </td> <td>37.7356 </td> <td>-122.417 </td> <td>(37.73560466456792, -122.41675952114524)</td>\n",
       "        </tr>\n",
       "        <tr>\n",
       "            <td>2020/01/01 12:20:00 AM</td> <td>2020/01/01   </td> <td>00:20        </td> <td>2020         </td> <td>Wednesday           </td> <td>2020/01/01 12:36:00 AM</td> <td>88675519090</td> <td>886755     </td> <td>200000094      </td> <td>2.0001e+08 </td> <td>II              </td> <td>Initial                </td> <td>nan         </td> <td>19090        </td> <td>Disorderly Conduct</td> <td>Drunkenness         </td> <td>Alcohol, Under Influence Of In Public Place</td> <td>Open or Active      </td> <td>EDDY ST \\ JONES ST       </td> <td>2.4929e+07</td> <td>Tenderloin     </td> <td>Tenderloin           </td> <td>6                  </td> <td>37.7839 </td> <td>-122.413 </td> <td>(37.7839325760642, -122.41259527758581) </td>\n",
       "        </tr>\n",
       "        <tr>\n",
       "            <td>2020/01/01 12:20:00 AM</td> <td>2020/01/01   </td> <td>00:20        </td> <td>2020         </td> <td>Wednesday           </td> <td>2020/01/01 12:36:00 AM</td> <td>88679519090</td> <td>886795     </td> <td>200000094      </td> <td>2.0001e+08 </td> <td>IS              </td> <td>Initial Supplement     </td> <td>nan         </td> <td>19090        </td> <td>Disorderly Conduct</td> <td>Drunkenness         </td> <td>Alcohol, Under Influence Of In Public Place</td> <td>Cite or Arrest Adult</td> <td>EDDY ST \\ JONES ST       </td> <td>2.4929e+07</td> <td>Tenderloin     </td> <td>Tenderloin           </td> <td>6                  </td> <td>37.7839 </td> <td>-122.413 </td> <td>(37.7839325760642, -122.41259527758581) </td>\n",
       "        </tr>\n",
       "    </tbody>\n",
       "</table>\n",
       "<p>... (979 rows omitted)</p>"
      ],
      "text/plain": [
       "<IPython.core.display.HTML object>"
      ]
     },
     "metadata": {},
     "output_type": "display_data"
    }
   ],
   "source": [
    "# filter for just disorderly conduct\n",
    "disorderly = incidents.where(\"Incident Category\", \"Disorderly Conduct\")\n",
    "disorderly.show(3)"
   ]
  },
  {
   "cell_type": "code",
   "execution_count": 9,
   "metadata": {},
   "outputs": [
    {
     "data": {
      "text/html": [
       "<table border=\"1\" class=\"dataframe\">\n",
       "    <thead>\n",
       "        <tr>\n",
       "            <th>Incident Datetime</th> <th>Incident Date</th> <th>Incident Time</th> <th>Incident Year</th> <th>Incident Day of Week</th> <th>Report Datetime</th> <th>Row ID</th> <th>Incident ID</th> <th>Incident Number</th> <th>CAD Number</th> <th>Report Type Code</th> <th>Report Type Description</th> <th>Filed Online</th> <th>Incident Code</th> <th>Incident Category</th> <th>Incident Subcategory</th> <th>Incident Description</th> <th>Resolution</th> <th>Intersection</th> <th>CNN</th> <th>Police District</th> <th>Analysis Neighborhood</th> <th>Supervisor District</th> <th>Latitude</th> <th>Longitude</th> <th>point</th>\n",
       "        </tr>\n",
       "    </thead>\n",
       "    <tbody>\n",
       "        <tr>\n",
       "            <td>2020/02/19 08:57:00 PM</td> <td>2020/02/19   </td> <td>20:57        </td> <td>2020         </td> <td>Wednesday           </td> <td>2020/02/19 09:15:00 PM</td> <td>96214819057</td> <td>962148     </td> <td>200127290      </td> <td>2.00504e+08</td> <td>IS              </td> <td>Initial Supplement     </td> <td>nan         </td> <td>19057        </td> <td>Disorderly Conduct</td> <td>Intimidation        </td> <td>Terrorist Threats                          </td> <td>Exceptional Adult   </td> <td>ANDOVER ST \\ RICHLAND AVE</td> <td>2.12e+07  </td> <td>Ingleside      </td> <td>Bernal Heights       </td> <td>9                  </td> <td>37.7356 </td> <td>-122.417 </td> <td>(37.73560466456792, -122.41675952114524)</td>\n",
       "        </tr>\n",
       "        <tr>\n",
       "            <td>2020/01/01 12:20:00 AM</td> <td>2020/01/01   </td> <td>00:20        </td> <td>2020         </td> <td>Wednesday           </td> <td>2020/01/01 12:36:00 AM</td> <td>88675519090</td> <td>886755     </td> <td>200000094      </td> <td>2.0001e+08 </td> <td>II              </td> <td>Initial                </td> <td>nan         </td> <td>19090        </td> <td>Disorderly Conduct</td> <td>Drunkenness         </td> <td>Alcohol, Under Influence Of In Public Place</td> <td>Open or Active      </td> <td>EDDY ST \\ JONES ST       </td> <td>2.4929e+07</td> <td>Tenderloin     </td> <td>Tenderloin           </td> <td>6                  </td> <td>37.7839 </td> <td>-122.413 </td> <td>(37.7839325760642, -122.41259527758581) </td>\n",
       "        </tr>\n",
       "        <tr>\n",
       "            <td>2020/01/01 12:20:00 AM</td> <td>2020/01/01   </td> <td>00:20        </td> <td>2020         </td> <td>Wednesday           </td> <td>2020/01/01 12:36:00 AM</td> <td>88679519090</td> <td>886795     </td> <td>200000094      </td> <td>2.0001e+08 </td> <td>IS              </td> <td>Initial Supplement     </td> <td>nan         </td> <td>19090        </td> <td>Disorderly Conduct</td> <td>Drunkenness         </td> <td>Alcohol, Under Influence Of In Public Place</td> <td>Cite or Arrest Adult</td> <td>EDDY ST \\ JONES ST       </td> <td>2.4929e+07</td> <td>Tenderloin     </td> <td>Tenderloin           </td> <td>6                  </td> <td>37.7839 </td> <td>-122.413 </td> <td>(37.7839325760642, -122.41259527758581) </td>\n",
       "        </tr>\n",
       "    </tbody>\n",
       "</table>\n",
       "<p>... (975 rows omitted)</p>"
      ],
      "text/plain": [
       "<IPython.core.display.HTML object>"
      ]
     },
     "metadata": {},
     "output_type": "display_data"
    }
   ],
   "source": [
    "# This cell removes all the disorderly conduct incidents that didn't report a location\n",
    "import math\n",
    "no_loc_incidents = []\n",
    "for i in range(disorderly.num_rows):\n",
    "    incident = disorderly.take(i)\n",
    "    if math.isnan(incident.column('Latitude').item(0)):\n",
    "        no_loc_incidents.append(i)\n",
    "disorderly.remove(no_loc_incidents)\n",
    "disorderly.show(3)"
   ]
  },
  {
   "cell_type": "markdown",
   "metadata": {},
   "source": [
    "### Question 3 <a id='q3'></a>\n",
    "Fill in the code below to create markers for all disorderly conduct incidents.\n",
    "\n",
    "As in question 2, choose the appropriate coordinates, popup, tooltip, color, and icon for the type of incident."
   ]
  },
  {
   "cell_type": "code",
   "execution_count": null,
   "metadata": {},
   "outputs": [],
   "source": [
    "# create a clean map for the disorderly conduct incidents\n",
    "disorderly_map = folium.Map(location=sf_coordinates, tiles=sf_tiles, zoom_start=sf_zoom_start)\n",
    "\n",
    "# make a marker for each disorderly conduct incident\n",
    "for i in range(disorderly.num_rows):\n",
    "    incidentC = disorderly.take(i)\n",
    "    coordinateC = [..., ...]\n",
    "    popupC = ...\n",
    "    tooltipC = ...\n",
    "    folium.Marker(location=..., popup=..., \n",
    "                  tooltip=..., icon=folium.Icon(color=..., icon=...)).add_to(disorderly_map)\n",
    "    \n",
    "# show the map\n",
    "disorderly_map"
   ]
  },
  {
   "cell_type": "markdown",
   "metadata": {},
   "source": [
    "### Question 4 <a id='q4'></a>\n",
    "\n",
    "Describe the features you chose for questions 1, 2, and 3, including:\n",
    "* map tiles\n",
    "* marker icon\n",
    "* marker color\n",
    "* marker popup and tooltip\n",
    "\n",
    "Why were those features good for the data in those questions?"
   ]
  },
  {
   "cell_type": "markdown",
   "metadata": {},
   "source": [
    "*Replace this line with your answer*"
   ]
  },
  {
   "cell_type": "markdown",
   "metadata": {},
   "source": [
    "## Choropleth maps <a id='3'></a>"
   ]
  },
  {
   "cell_type": "markdown",
   "metadata": {},
   "source": [
    "In this section, you're going to create a choropleth map with the number of non-criminal mental health-related incidents in each police district.\n",
    "\n",
    "First, we need to load the geojson file that gives the boundaries for the police districts. Run the next cell to load the geojson."
   ]
  },
  {
   "cell_type": "code",
   "execution_count": null,
   "metadata": {},
   "outputs": [],
   "source": [
    "# load SFPD district boundaries\n",
    "sf_districts = json.load(open('Data/sf-police-districts.geojson'))\n",
    "sf_districts"
   ]
  },
  {
   "cell_type": "markdown",
   "metadata": {},
   "source": [
    "You can see the districts overlaid onto the San Francisco Map by running the next cell."
   ]
  },
  {
   "cell_type": "code",
   "execution_count": null,
   "metadata": {},
   "outputs": [],
   "source": [
    "# make the folium geojson object and add to a map of SF\n",
    "m = folium.Map(sf_coordinates, zoom_start=sf_zoom_start, tiles=sf_tiles)\n",
    "\n",
    "folium.GeoJson(\n",
    "    sf_districts,\n",
    "    style_function=lambda feature: {\n",
    "        'fillColor': 'white',\n",
    "        'color': 'blue',\n",
    "        'weight': 2,\n",
    "        'dashArray': '5, 5'\n",
    "    }\n",
    ").add_to(m)\n",
    "m"
   ]
  },
  {
   "cell_type": "markdown",
   "metadata": {},
   "source": [
    "To make our choropleth overlay, we must first get the counts of mental health incidents by district. First, we use the `where` method to select only the incidents that have a description of \"Metal Health Detention\"."
   ]
  },
  {
   "cell_type": "code",
   "execution_count": null,
   "metadata": {},
   "outputs": [],
   "source": [
    "# mental health related incidents\n",
    "mental_health = incidents.where(\"Incident Description\", are.equal_to(\"Mental Health Detention\"))\n",
    "mental_health.show(3)"
   ]
  },
  {
   "cell_type": "markdown",
   "metadata": {},
   "source": [
    "Next, we use `group` to get the counts of mental health incidents per police district."
   ]
  },
  {
   "cell_type": "code",
   "execution_count": null,
   "metadata": {},
   "outputs": [],
   "source": [
    "# get the counts of mental health incidents by district\n",
    "mental_health_by_district = mental_health.group(\"Police District\")\n",
    "mental_health_by_district"
   ]
  },
  {
   "cell_type": "markdown",
   "metadata": {},
   "source": [
    "And finally, we convert the counts to a DataFrame so that it works with the Folium software."
   ]
  },
  {
   "cell_type": "code",
   "execution_count": null,
   "metadata": {},
   "outputs": [],
   "source": [
    "# convert to DataFrame\n",
    "mental_health_df = mental_health_by_district.to_df()\n",
    "mental_health_df['Police District'] = mental_health_df['Police District'].str.upper()\n",
    "mental_health_df.head()"
   ]
  },
  {
   "cell_type": "markdown",
   "metadata": {},
   "source": [
    "### Question 5 <a id='q5'></a>\n",
    "Complete the following code to create a choropleth overlay showing the counts of mental health incidents for each police district. Choose an appropriate and informative:\n",
    "* fill color (using a colormap)\n",
    "* fill opacity\n",
    "* legend name\n",
    "\n",
    "You can find colormap options at https://matplotlib.org/gallery/color/colormap_reference.html"
   ]
  },
  {
   "cell_type": "code",
   "execution_count": null,
   "metadata": {},
   "outputs": [],
   "source": [
    "# create a clean map for the choropleth\n",
    "m = folium.Map(sf_coordinates, zoom_start=sf_zoom_start, tiles=sf_tiles)\n",
    "\n",
    "# create the choropleth overlay\n",
    "folium.Choropleth(\n",
    "    geo_data=...,\n",
    "    data=...,\n",
    "    columns=['...','...'],\n",
    "    key_on='feature.properties.district',\n",
    "    fill_color=...,\n",
    "    fill_opacity=...,\n",
    "    legend_name=...\n",
    ").add_to(m)\n",
    "\n",
    "m"
   ]
  },
  {
   "cell_type": "markdown",
   "metadata": {},
   "source": [
    "### Question 6 <a id='q6'></a>\n",
    "Explain your design choices for the choropleth map. What options did you consider? What options did you end up choosing, and why? Be sure to reference the context of the data when you explain your choices."
   ]
  },
  {
   "cell_type": "markdown",
   "metadata": {},
   "source": [
    "*Replace this line with your response*"
   ]
  },
  {
   "cell_type": "markdown",
   "metadata": {},
   "source": [
    "----\n",
    "\n",
    "\n",
    "Data Science Modules: http://data.berkeley.edu/education/modules\n",
    "\n",
    "Data Science Offerings at Berkeley: https://data.berkeley.edu/academics/undergraduate-programs/data-science-offerings\n",
    "\n"
   ]
  },
  {
   "cell_type": "markdown",
   "metadata": {},
   "source": [
    "Notebook developed by: Keeley Takimoto, Harold Cha"
   ]
  }
 ],
 "metadata": {
  "kernelspec": {
   "display_name": "Python 3",
   "language": "python",
   "name": "python3"
  },
  "language_info": {
   "codemirror_mode": {
    "name": "ipython",
    "version": 3
   },
   "file_extension": ".py",
   "mimetype": "text/x-python",
   "name": "python",
   "nbconvert_exporter": "python",
   "pygments_lexer": "ipython3",
   "version": "3.7.6"
  }
 },
 "nbformat": 4,
 "nbformat_minor": 2
}
